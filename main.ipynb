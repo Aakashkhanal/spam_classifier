{
 "cells": [
  {
   "cell_type": "code",
   "execution_count": 56,
   "id": "e49eb0bb",
   "metadata": {},
   "outputs": [],
   "source": [
    "# !mkdir -p ~/.kaggle\n",
    "# !cp kaggle.json ~/.kaggle/\n",
    "# !chmod 600 ~/.kaggle/kaggle.json"
   ]
  },
  {
   "cell_type": "markdown",
   "id": "46a757b8",
   "metadata": {},
   "source": [
    "### Downloading the dataset"
   ]
  },
  {
   "cell_type": "code",
   "execution_count": 57,
   "id": "753ec2f7",
   "metadata": {},
   "outputs": [],
   "source": [
    "# !kaggle datasets download uciml/sms-spam-collection-dataset"
   ]
  },
  {
   "cell_type": "code",
   "execution_count": 58,
   "id": "986ae5f6",
   "metadata": {},
   "outputs": [],
   "source": [
    "# # extracting the compressed dataset\n",
    "\n",
    "# from zipfile import ZipFile\n",
    "# dataset = 'sms-spam-collection-dataset.zip'\n",
    "\n",
    "# with ZipFile(dataset,'r') as zip:\n",
    "#     zip.extractall()\n",
    "#     print(\"The dataset is extracted\")"
   ]
  },
  {
   "cell_type": "code",
   "execution_count": 59,
   "id": "b58cddd4",
   "metadata": {},
   "outputs": [],
   "source": [
    "import numpy as np\n",
    "import pandas as pd\n",
    "\n"
   ]
  },
  {
   "cell_type": "code",
   "execution_count": 60,
   "id": "ff0fe0eb",
   "metadata": {},
   "outputs": [],
   "source": [
    "df = pd.read_csv('spam.csv', encoding='latin1')"
   ]
  },
  {
   "cell_type": "code",
   "execution_count": 61,
   "id": "106a9e2a",
   "metadata": {},
   "outputs": [
    {
     "data": {
      "text/html": [
       "<div>\n",
       "<style scoped>\n",
       "    .dataframe tbody tr th:only-of-type {\n",
       "        vertical-align: middle;\n",
       "    }\n",
       "\n",
       "    .dataframe tbody tr th {\n",
       "        vertical-align: top;\n",
       "    }\n",
       "\n",
       "    .dataframe thead th {\n",
       "        text-align: right;\n",
       "    }\n",
       "</style>\n",
       "<table border=\"1\" class=\"dataframe\">\n",
       "  <thead>\n",
       "    <tr style=\"text-align: right;\">\n",
       "      <th></th>\n",
       "      <th>v1</th>\n",
       "      <th>v2</th>\n",
       "      <th>Unnamed: 2</th>\n",
       "      <th>Unnamed: 3</th>\n",
       "      <th>Unnamed: 4</th>\n",
       "    </tr>\n",
       "  </thead>\n",
       "  <tbody>\n",
       "    <tr>\n",
       "      <th>0</th>\n",
       "      <td>ham</td>\n",
       "      <td>Go until jurong point, crazy.. Available only ...</td>\n",
       "      <td>NaN</td>\n",
       "      <td>NaN</td>\n",
       "      <td>NaN</td>\n",
       "    </tr>\n",
       "    <tr>\n",
       "      <th>1</th>\n",
       "      <td>ham</td>\n",
       "      <td>Ok lar... Joking wif u oni...</td>\n",
       "      <td>NaN</td>\n",
       "      <td>NaN</td>\n",
       "      <td>NaN</td>\n",
       "    </tr>\n",
       "    <tr>\n",
       "      <th>2</th>\n",
       "      <td>spam</td>\n",
       "      <td>Free entry in 2 a wkly comp to win FA Cup fina...</td>\n",
       "      <td>NaN</td>\n",
       "      <td>NaN</td>\n",
       "      <td>NaN</td>\n",
       "    </tr>\n",
       "    <tr>\n",
       "      <th>3</th>\n",
       "      <td>ham</td>\n",
       "      <td>U dun say so early hor... U c already then say...</td>\n",
       "      <td>NaN</td>\n",
       "      <td>NaN</td>\n",
       "      <td>NaN</td>\n",
       "    </tr>\n",
       "    <tr>\n",
       "      <th>4</th>\n",
       "      <td>ham</td>\n",
       "      <td>Nah I don't think he goes to usf, he lives aro...</td>\n",
       "      <td>NaN</td>\n",
       "      <td>NaN</td>\n",
       "      <td>NaN</td>\n",
       "    </tr>\n",
       "  </tbody>\n",
       "</table>\n",
       "</div>"
      ],
      "text/plain": [
       "     v1                                                 v2 Unnamed: 2  \\\n",
       "0   ham  Go until jurong point, crazy.. Available only ...        NaN   \n",
       "1   ham                      Ok lar... Joking wif u oni...        NaN   \n",
       "2  spam  Free entry in 2 a wkly comp to win FA Cup fina...        NaN   \n",
       "3   ham  U dun say so early hor... U c already then say...        NaN   \n",
       "4   ham  Nah I don't think he goes to usf, he lives aro...        NaN   \n",
       "\n",
       "  Unnamed: 3 Unnamed: 4  \n",
       "0        NaN        NaN  \n",
       "1        NaN        NaN  \n",
       "2        NaN        NaN  \n",
       "3        NaN        NaN  \n",
       "4        NaN        NaN  "
      ]
     },
     "execution_count": 61,
     "metadata": {},
     "output_type": "execute_result"
    }
   ],
   "source": [
    "df.head()"
   ]
  },
  {
   "cell_type": "code",
   "execution_count": 62,
   "id": "1a45cc12",
   "metadata": {},
   "outputs": [
    {
     "data": {
      "text/plain": [
       "(5572, 5)"
      ]
     },
     "execution_count": 62,
     "metadata": {},
     "output_type": "execute_result"
    }
   ],
   "source": [
    "df.shape"
   ]
  },
  {
   "cell_type": "markdown",
   "id": "cadaedd7",
   "metadata": {},
   "source": [
    "# steps:\n",
    "1. Data cleaning\n",
    "2. EDA\n",
    "3. Text preprocessing\n",
    "4. Model building \n",
    "5. Evaluation\n",
    "6. improvement\n",
    "7. Website\n",
    "8. Deployment\n"
   ]
  },
  {
   "cell_type": "markdown",
   "id": "02005ff4",
   "metadata": {},
   "source": [
    "# 1. Data cleaning"
   ]
  },
  {
   "cell_type": "code",
   "execution_count": 63,
   "id": "23595743",
   "metadata": {},
   "outputs": [
    {
     "name": "stdout",
     "output_type": "stream",
     "text": [
      "<class 'pandas.core.frame.DataFrame'>\n",
      "RangeIndex: 5572 entries, 0 to 5571\n",
      "Data columns (total 5 columns):\n",
      " #   Column      Non-Null Count  Dtype \n",
      "---  ------      --------------  ----- \n",
      " 0   v1          5572 non-null   object\n",
      " 1   v2          5572 non-null   object\n",
      " 2   Unnamed: 2  50 non-null     object\n",
      " 3   Unnamed: 3  12 non-null     object\n",
      " 4   Unnamed: 4  6 non-null      object\n",
      "dtypes: object(5)\n",
      "memory usage: 217.8+ KB\n"
     ]
    }
   ],
   "source": [
    "df.info()"
   ]
  },
  {
   "cell_type": "code",
   "execution_count": 64,
   "id": "8ef320fe",
   "metadata": {},
   "outputs": [],
   "source": [
    "# drop last 3 cols\n",
    "df.drop(columns=['Unnamed: 2', 'Unnamed: 3', 'Unnamed: 4'], inplace= True)"
   ]
  },
  {
   "cell_type": "code",
   "execution_count": 65,
   "id": "0494426b",
   "metadata": {},
   "outputs": [
    {
     "data": {
      "text/plain": [
       "(5572, 2)"
      ]
     },
     "execution_count": 65,
     "metadata": {},
     "output_type": "execute_result"
    }
   ],
   "source": [
    "df.shape"
   ]
  },
  {
   "cell_type": "code",
   "execution_count": 66,
   "id": "cea067e9",
   "metadata": {},
   "outputs": [
    {
     "data": {
      "text/html": [
       "<div>\n",
       "<style scoped>\n",
       "    .dataframe tbody tr th:only-of-type {\n",
       "        vertical-align: middle;\n",
       "    }\n",
       "\n",
       "    .dataframe tbody tr th {\n",
       "        vertical-align: top;\n",
       "    }\n",
       "\n",
       "    .dataframe thead th {\n",
       "        text-align: right;\n",
       "    }\n",
       "</style>\n",
       "<table border=\"1\" class=\"dataframe\">\n",
       "  <thead>\n",
       "    <tr style=\"text-align: right;\">\n",
       "      <th></th>\n",
       "      <th>v1</th>\n",
       "      <th>v2</th>\n",
       "    </tr>\n",
       "  </thead>\n",
       "  <tbody>\n",
       "    <tr>\n",
       "      <th>765</th>\n",
       "      <td>spam</td>\n",
       "      <td>UR awarded a City Break and could WIN a å£200 ...</td>\n",
       "    </tr>\n",
       "    <tr>\n",
       "      <th>4186</th>\n",
       "      <td>ham</td>\n",
       "      <td>Dear got bus directly to calicut</td>\n",
       "    </tr>\n",
       "    <tr>\n",
       "      <th>2969</th>\n",
       "      <td>ham</td>\n",
       "      <td>U should make a fb list</td>\n",
       "    </tr>\n",
       "    <tr>\n",
       "      <th>1659</th>\n",
       "      <td>ham</td>\n",
       "      <td>Yeah, where's your class at?</td>\n",
       "    </tr>\n",
       "    <tr>\n",
       "      <th>4044</th>\n",
       "      <td>ham</td>\n",
       "      <td>If You mean the website. Yes.</td>\n",
       "    </tr>\n",
       "  </tbody>\n",
       "</table>\n",
       "</div>"
      ],
      "text/plain": [
       "        v1                                                 v2\n",
       "765   spam  UR awarded a City Break and could WIN a å£200 ...\n",
       "4186   ham                   Dear got bus directly to calicut\n",
       "2969   ham                            U should make a fb list\n",
       "1659   ham                       Yeah, where's your class at?\n",
       "4044   ham                      If You mean the website. Yes."
      ]
     },
     "execution_count": 66,
     "metadata": {},
     "output_type": "execute_result"
    }
   ],
   "source": [
    "df.sample(5)"
   ]
  },
  {
   "cell_type": "code",
   "execution_count": 67,
   "id": "482afb37",
   "metadata": {},
   "outputs": [
    {
     "data": {
      "text/html": [
       "<div>\n",
       "<style scoped>\n",
       "    .dataframe tbody tr th:only-of-type {\n",
       "        vertical-align: middle;\n",
       "    }\n",
       "\n",
       "    .dataframe tbody tr th {\n",
       "        vertical-align: top;\n",
       "    }\n",
       "\n",
       "    .dataframe thead th {\n",
       "        text-align: right;\n",
       "    }\n",
       "</style>\n",
       "<table border=\"1\" class=\"dataframe\">\n",
       "  <thead>\n",
       "    <tr style=\"text-align: right;\">\n",
       "      <th></th>\n",
       "      <th>target</th>\n",
       "      <th>text</th>\n",
       "    </tr>\n",
       "  </thead>\n",
       "  <tbody>\n",
       "    <tr>\n",
       "      <th>0</th>\n",
       "      <td>ham</td>\n",
       "      <td>Go until jurong point, crazy.. Available only ...</td>\n",
       "    </tr>\n",
       "    <tr>\n",
       "      <th>1</th>\n",
       "      <td>ham</td>\n",
       "      <td>Ok lar... Joking wif u oni...</td>\n",
       "    </tr>\n",
       "    <tr>\n",
       "      <th>2</th>\n",
       "      <td>spam</td>\n",
       "      <td>Free entry in 2 a wkly comp to win FA Cup fina...</td>\n",
       "    </tr>\n",
       "    <tr>\n",
       "      <th>3</th>\n",
       "      <td>ham</td>\n",
       "      <td>U dun say so early hor... U c already then say...</td>\n",
       "    </tr>\n",
       "    <tr>\n",
       "      <th>4</th>\n",
       "      <td>ham</td>\n",
       "      <td>Nah I don't think he goes to usf, he lives aro...</td>\n",
       "    </tr>\n",
       "    <tr>\n",
       "      <th>...</th>\n",
       "      <td>...</td>\n",
       "      <td>...</td>\n",
       "    </tr>\n",
       "    <tr>\n",
       "      <th>5567</th>\n",
       "      <td>spam</td>\n",
       "      <td>This is the 2nd time we have tried 2 contact u...</td>\n",
       "    </tr>\n",
       "    <tr>\n",
       "      <th>5568</th>\n",
       "      <td>ham</td>\n",
       "      <td>Will Ì_ b going to esplanade fr home?</td>\n",
       "    </tr>\n",
       "    <tr>\n",
       "      <th>5569</th>\n",
       "      <td>ham</td>\n",
       "      <td>Pity, * was in mood for that. So...any other s...</td>\n",
       "    </tr>\n",
       "    <tr>\n",
       "      <th>5570</th>\n",
       "      <td>ham</td>\n",
       "      <td>The guy did some bitching but I acted like i'd...</td>\n",
       "    </tr>\n",
       "    <tr>\n",
       "      <th>5571</th>\n",
       "      <td>ham</td>\n",
       "      <td>Rofl. Its true to its name</td>\n",
       "    </tr>\n",
       "  </tbody>\n",
       "</table>\n",
       "<p>5572 rows × 2 columns</p>\n",
       "</div>"
      ],
      "text/plain": [
       "     target                                               text\n",
       "0       ham  Go until jurong point, crazy.. Available only ...\n",
       "1       ham                      Ok lar... Joking wif u oni...\n",
       "2      spam  Free entry in 2 a wkly comp to win FA Cup fina...\n",
       "3       ham  U dun say so early hor... U c already then say...\n",
       "4       ham  Nah I don't think he goes to usf, he lives aro...\n",
       "...     ...                                                ...\n",
       "5567   spam  This is the 2nd time we have tried 2 contact u...\n",
       "5568    ham              Will Ì_ b going to esplanade fr home?\n",
       "5569    ham  Pity, * was in mood for that. So...any other s...\n",
       "5570    ham  The guy did some bitching but I acted like i'd...\n",
       "5571    ham                         Rofl. Its true to its name\n",
       "\n",
       "[5572 rows x 2 columns]"
      ]
     },
     "execution_count": 67,
     "metadata": {},
     "output_type": "execute_result"
    }
   ],
   "source": [
    "df.rename(columns={'v1':'target', 'v2':'text'}, inplace=True)\n",
    "df"
   ]
  },
  {
   "cell_type": "code",
   "execution_count": 68,
   "id": "ba549e0d",
   "metadata": {},
   "outputs": [],
   "source": [
    "from sklearn.preprocessing import LabelEncoder\n",
    "encoder = LabelEncoder()"
   ]
  },
  {
   "cell_type": "code",
   "execution_count": 69,
   "id": "588be058",
   "metadata": {},
   "outputs": [],
   "source": [
    "df['target'] = encoder.fit_transform(df['target'])\n"
   ]
  },
  {
   "cell_type": "code",
   "execution_count": 70,
   "id": "3230495d",
   "metadata": {},
   "outputs": [
    {
     "data": {
      "text/html": [
       "<div>\n",
       "<style scoped>\n",
       "    .dataframe tbody tr th:only-of-type {\n",
       "        vertical-align: middle;\n",
       "    }\n",
       "\n",
       "    .dataframe tbody tr th {\n",
       "        vertical-align: top;\n",
       "    }\n",
       "\n",
       "    .dataframe thead th {\n",
       "        text-align: right;\n",
       "    }\n",
       "</style>\n",
       "<table border=\"1\" class=\"dataframe\">\n",
       "  <thead>\n",
       "    <tr style=\"text-align: right;\">\n",
       "      <th></th>\n",
       "      <th>target</th>\n",
       "      <th>text</th>\n",
       "    </tr>\n",
       "  </thead>\n",
       "  <tbody>\n",
       "    <tr>\n",
       "      <th>0</th>\n",
       "      <td>0</td>\n",
       "      <td>Go until jurong point, crazy.. Available only ...</td>\n",
       "    </tr>\n",
       "    <tr>\n",
       "      <th>1</th>\n",
       "      <td>0</td>\n",
       "      <td>Ok lar... Joking wif u oni...</td>\n",
       "    </tr>\n",
       "    <tr>\n",
       "      <th>2</th>\n",
       "      <td>1</td>\n",
       "      <td>Free entry in 2 a wkly comp to win FA Cup fina...</td>\n",
       "    </tr>\n",
       "    <tr>\n",
       "      <th>3</th>\n",
       "      <td>0</td>\n",
       "      <td>U dun say so early hor... U c already then say...</td>\n",
       "    </tr>\n",
       "    <tr>\n",
       "      <th>4</th>\n",
       "      <td>0</td>\n",
       "      <td>Nah I don't think he goes to usf, he lives aro...</td>\n",
       "    </tr>\n",
       "  </tbody>\n",
       "</table>\n",
       "</div>"
      ],
      "text/plain": [
       "   target                                               text\n",
       "0       0  Go until jurong point, crazy.. Available only ...\n",
       "1       0                      Ok lar... Joking wif u oni...\n",
       "2       1  Free entry in 2 a wkly comp to win FA Cup fina...\n",
       "3       0  U dun say so early hor... U c already then say...\n",
       "4       0  Nah I don't think he goes to usf, he lives aro..."
      ]
     },
     "execution_count": 70,
     "metadata": {},
     "output_type": "execute_result"
    }
   ],
   "source": [
    "df.head()"
   ]
  },
  {
   "cell_type": "code",
   "execution_count": 71,
   "id": "a2d369b7",
   "metadata": {},
   "outputs": [
    {
     "data": {
      "text/plain": [
       "target    0\n",
       "text      0\n",
       "dtype: int64"
      ]
     },
     "execution_count": 71,
     "metadata": {},
     "output_type": "execute_result"
    }
   ],
   "source": [
    "# missing value\n",
    "df.isnull().sum()"
   ]
  },
  {
   "cell_type": "code",
   "execution_count": 72,
   "id": "69e11f7a",
   "metadata": {},
   "outputs": [
    {
     "data": {
      "text/plain": [
       "403"
      ]
     },
     "execution_count": 72,
     "metadata": {},
     "output_type": "execute_result"
    }
   ],
   "source": [
    "# check for duplicate values\n",
    "int(df.duplicated().sum())"
   ]
  },
  {
   "cell_type": "code",
   "execution_count": 73,
   "id": "997ecf82",
   "metadata": {},
   "outputs": [],
   "source": [
    "# removing duplicates\n",
    "df = df.drop_duplicates(keep = 'first')"
   ]
  },
  {
   "cell_type": "markdown",
   "id": "4431cf79",
   "metadata": {},
   "source": [
    "# 2. EDA"
   ]
  },
  {
   "cell_type": "code",
   "execution_count": 74,
   "id": "928b15a7",
   "metadata": {},
   "outputs": [
    {
     "data": {
      "text/plain": [
       "target\n",
       "0    4516\n",
       "1     653\n",
       "Name: count, dtype: int64"
      ]
     },
     "execution_count": 74,
     "metadata": {},
     "output_type": "execute_result"
    }
   ],
   "source": [
    "df['target'].value_counts()"
   ]
  },
  {
   "cell_type": "code",
   "execution_count": 75,
   "id": "9e043c11",
   "metadata": {},
   "outputs": [
    {
     "data": {
      "image/png": "[encoded data removed]",
      "text/plain": [
       "<Figure size 640x480 with 1 Axes>"
      ]
     },
     "metadata": {},
     "output_type": "display_data"
    }
   ],
   "source": [
    "import matplotlib.pyplot as plt\n",
    "plt.pie(df['target'].value_counts(), labels=['ham', 'spam'], autopct='%0.2f')\n",
    "plt.show()"
   ]
  },
  {
   "cell_type": "code",
   "execution_count": 76,
   "id": "48c21edb",
   "metadata": {},
   "outputs": [],
   "source": [
    "# Data is imbalanced"
   ]
  },
  {
   "cell_type": "code",
   "execution_count": 77,
   "id": "c4b8a038",
   "metadata": {},
   "outputs": [],
   "source": [
    "import nltk"
   ]
  },
  {
   "cell_type": "code",
   "execution_count": 78,
   "id": "c41be254",
   "metadata": {},
   "outputs": [
    {
     "name": "stderr",
     "output_type": "stream",
     "text": [
      "[nltk_data] Downloading package punkt to\n",
      "[nltk_data]     /Users/aakashkhanal/nltk_data...\n",
      "[nltk_data]   Package punkt is already up-to-date!\n"
     ]
    },
    {
     "data": {
      "text/plain": [
       "True"
      ]
     },
     "execution_count": 78,
     "metadata": {},
     "output_type": "execute_result"
    }
   ],
   "source": [
    "nltk.download('punkt')"
   ]
  },
  {
   "cell_type": "code",
   "execution_count": 79,
   "id": "e6b5ae51",
   "metadata": {},
   "outputs": [
    {
     "name": "stderr",
     "output_type": "stream",
     "text": [
      "/var/folders/nn/lc5n9zn964zcgsw9v2_vpjvw0000gn/T/ipykernel_2530/2418167279.py:1: SettingWithCopyWarning: \n",
      "A value is trying to be set on a copy of a slice from a DataFrame.\n",
      "Try using .loc[row_indexer,col_indexer] = value instead\n",
      "\n",
      "See the caveats in the documentation: https://pandas.pydata.org/pandas-docs/stable/user_guide/indexing.html#returning-a-view-versus-a-copy\n",
      "  df['num_character'] = df['text'].apply(len)\n"
     ]
    }
   ],
   "source": [
    "df['num_character'] = df['text'].apply(len)"
   ]
  },
  {
   "cell_type": "code",
   "execution_count": 80,
   "id": "424fda38",
   "metadata": {},
   "outputs": [
    {
     "data": {
      "text/html": [
       "<div>\n",
       "<style scoped>\n",
       "    .dataframe tbody tr th:only-of-type {\n",
       "        vertical-align: middle;\n",
       "    }\n",
       "\n",
       "    .dataframe tbody tr th {\n",
       "        vertical-align: top;\n",
       "    }\n",
       "\n",
       "    .dataframe thead th {\n",
       "        text-align: right;\n",
       "    }\n",
       "</style>\n",
       "<table border=\"1\" class=\"dataframe\">\n",
       "  <thead>\n",
       "    <tr style=\"text-align: right;\">\n",
       "      <th></th>\n",
       "      <th>target</th>\n",
       "      <th>text</th>\n",
       "      <th>num_character</th>\n",
       "    </tr>\n",
       "  </thead>\n",
       "  <tbody>\n",
       "    <tr>\n",
       "      <th>0</th>\n",
       "      <td>0</td>\n",
       "      <td>Go until jurong point, crazy.. Available only ...</td>\n",
       "      <td>111</td>\n",
       "    </tr>\n",
       "    <tr>\n",
       "      <th>1</th>\n",
       "      <td>0</td>\n",
       "      <td>Ok lar... Joking wif u oni...</td>\n",
       "      <td>29</td>\n",
       "    </tr>\n",
       "    <tr>\n",
       "      <th>2</th>\n",
       "      <td>1</td>\n",
       "      <td>Free entry in 2 a wkly comp to win FA Cup fina...</td>\n",
       "      <td>155</td>\n",
       "    </tr>\n",
       "    <tr>\n",
       "      <th>3</th>\n",
       "      <td>0</td>\n",
       "      <td>U dun say so early hor... U c already then say...</td>\n",
       "      <td>49</td>\n",
       "    </tr>\n",
       "    <tr>\n",
       "      <th>4</th>\n",
       "      <td>0</td>\n",
       "      <td>Nah I don't think he goes to usf, he lives aro...</td>\n",
       "      <td>61</td>\n",
       "    </tr>\n",
       "  </tbody>\n",
       "</table>\n",
       "</div>"
      ],
      "text/plain": [
       "   target                                               text  num_character\n",
       "0       0  Go until jurong point, crazy.. Available only ...            111\n",
       "1       0                      Ok lar... Joking wif u oni...             29\n",
       "2       1  Free entry in 2 a wkly comp to win FA Cup fina...            155\n",
       "3       0  U dun say so early hor... U c already then say...             49\n",
       "4       0  Nah I don't think he goes to usf, he lives aro...             61"
      ]
     },
     "execution_count": 80,
     "metadata": {},
     "output_type": "execute_result"
    }
   ],
   "source": [
    "df.head()"
   ]
  },
  {
   "cell_type": "code",
   "execution_count": 81,
   "id": "268f064f",
   "metadata": {},
   "outputs": [
    {
     "name": "stderr",
     "output_type": "stream",
     "text": [
      "/var/folders/nn/lc5n9zn964zcgsw9v2_vpjvw0000gn/T/ipykernel_2530/2525831158.py:2: SettingWithCopyWarning: \n",
      "A value is trying to be set on a copy of a slice from a DataFrame.\n",
      "Try using .loc[row_indexer,col_indexer] = value instead\n",
      "\n",
      "See the caveats in the documentation: https://pandas.pydata.org/pandas-docs/stable/user_guide/indexing.html#returning-a-view-versus-a-copy\n",
      "  df['num_words'] = df['text'].apply(lambda x: len(nltk.word_tokenize(x)))\n"
     ]
    }
   ],
   "source": [
    "# num of words\n",
    "df['num_words'] = df['text'].apply(lambda x: len(nltk.word_tokenize(x)))"
   ]
  },
  {
   "cell_type": "code",
   "execution_count": 82,
   "id": "6dd8dac6",
   "metadata": {},
   "outputs": [],
   "source": [
    "# df['text'].apply(lambda x: len(x.split()))\n",
    "#why is this counting less"
   ]
  },
  {
   "cell_type": "code",
   "execution_count": 83,
   "id": "92851d4f",
   "metadata": {},
   "outputs": [
    {
     "data": {
      "text/html": [
       "<div>\n",
       "<style scoped>\n",
       "    .dataframe tbody tr th:only-of-type {\n",
       "        vertical-align: middle;\n",
       "    }\n",
       "\n",
       "    .dataframe tbody tr th {\n",
       "        vertical-align: top;\n",
       "    }\n",
       "\n",
       "    .dataframe thead th {\n",
       "        text-align: right;\n",
       "    }\n",
       "</style>\n",
       "<table border=\"1\" class=\"dataframe\">\n",
       "  <thead>\n",
       "    <tr style=\"text-align: right;\">\n",
       "      <th></th>\n",
       "      <th>target</th>\n",
       "      <th>text</th>\n",
       "      <th>num_character</th>\n",
       "      <th>num_words</th>\n",
       "    </tr>\n",
       "  </thead>\n",
       "  <tbody>\n",
       "    <tr>\n",
       "      <th>0</th>\n",
       "      <td>0</td>\n",
       "      <td>Go until jurong point, crazy.. Available only ...</td>\n",
       "      <td>111</td>\n",
       "      <td>24</td>\n",
       "    </tr>\n",
       "    <tr>\n",
       "      <th>1</th>\n",
       "      <td>0</td>\n",
       "      <td>Ok lar... Joking wif u oni...</td>\n",
       "      <td>29</td>\n",
       "      <td>8</td>\n",
       "    </tr>\n",
       "    <tr>\n",
       "      <th>2</th>\n",
       "      <td>1</td>\n",
       "      <td>Free entry in 2 a wkly comp to win FA Cup fina...</td>\n",
       "      <td>155</td>\n",
       "      <td>37</td>\n",
       "    </tr>\n",
       "    <tr>\n",
       "      <th>3</th>\n",
       "      <td>0</td>\n",
       "      <td>U dun say so early hor... U c already then say...</td>\n",
       "      <td>49</td>\n",
       "      <td>13</td>\n",
       "    </tr>\n",
       "    <tr>\n",
       "      <th>4</th>\n",
       "      <td>0</td>\n",
       "      <td>Nah I don't think he goes to usf, he lives aro...</td>\n",
       "      <td>61</td>\n",
       "      <td>15</td>\n",
       "    </tr>\n",
       "  </tbody>\n",
       "</table>\n",
       "</div>"
      ],
      "text/plain": [
       "   target                                               text  num_character  \\\n",
       "0       0  Go until jurong point, crazy.. Available only ...            111   \n",
       "1       0                      Ok lar... Joking wif u oni...             29   \n",
       "2       1  Free entry in 2 a wkly comp to win FA Cup fina...            155   \n",
       "3       0  U dun say so early hor... U c already then say...             49   \n",
       "4       0  Nah I don't think he goes to usf, he lives aro...             61   \n",
       "\n",
       "   num_words  \n",
       "0         24  \n",
       "1          8  \n",
       "2         37  \n",
       "3         13  \n",
       "4         15  "
      ]
     },
     "execution_count": 83,
     "metadata": {},
     "output_type": "execute_result"
    }
   ],
   "source": [
    "df.head()"
   ]
  },
  {
   "cell_type": "code",
   "execution_count": 84,
   "id": "ea01a46b",
   "metadata": {},
   "outputs": [
    {
     "name": "stderr",
     "output_type": "stream",
     "text": [
      "/var/folders/nn/lc5n9zn964zcgsw9v2_vpjvw0000gn/T/ipykernel_2530/589552786.py:1: SettingWithCopyWarning: \n",
      "A value is trying to be set on a copy of a slice from a DataFrame.\n",
      "Try using .loc[row_indexer,col_indexer] = value instead\n",
      "\n",
      "See the caveats in the documentation: https://pandas.pydata.org/pandas-docs/stable/user_guide/indexing.html#returning-a-view-versus-a-copy\n",
      "  df['num_sentences'] = df['text'].apply(lambda x: len(nltk.sent_tokenize(x)))\n"
     ]
    }
   ],
   "source": [
    "df['num_sentences'] = df['text'].apply(lambda x: len(nltk.sent_tokenize(x)))"
   ]
  },
  {
   "cell_type": "code",
   "execution_count": 85,
   "id": "828d18ff",
   "metadata": {},
   "outputs": [
    {
     "data": {
      "text/html": [
       "<div>\n",
       "<style scoped>\n",
       "    .dataframe tbody tr th:only-of-type {\n",
       "        vertical-align: middle;\n",
       "    }\n",
       "\n",
       "    .dataframe tbody tr th {\n",
       "        vertical-align: top;\n",
       "    }\n",
       "\n",
       "    .dataframe thead th {\n",
       "        text-align: right;\n",
       "    }\n",
       "</style>\n",
       "<table border=\"1\" class=\"dataframe\">\n",
       "  <thead>\n",
       "    <tr style=\"text-align: right;\">\n",
       "      <th></th>\n",
       "      <th>target</th>\n",
       "      <th>text</th>\n",
       "      <th>num_character</th>\n",
       "      <th>num_words</th>\n",
       "      <th>num_sentences</th>\n",
       "    </tr>\n",
       "  </thead>\n",
       "  <tbody>\n",
       "    <tr>\n",
       "      <th>0</th>\n",
       "      <td>0</td>\n",
       "      <td>Go until jurong point, crazy.. Available only ...</td>\n",
       "      <td>111</td>\n",
       "      <td>24</td>\n",
       "      <td>2</td>\n",
       "    </tr>\n",
       "    <tr>\n",
       "      <th>1</th>\n",
       "      <td>0</td>\n",
       "      <td>Ok lar... Joking wif u oni...</td>\n",
       "      <td>29</td>\n",
       "      <td>8</td>\n",
       "      <td>2</td>\n",
       "    </tr>\n",
       "    <tr>\n",
       "      <th>2</th>\n",
       "      <td>1</td>\n",
       "      <td>Free entry in 2 a wkly comp to win FA Cup fina...</td>\n",
       "      <td>155</td>\n",
       "      <td>37</td>\n",
       "      <td>2</td>\n",
       "    </tr>\n",
       "    <tr>\n",
       "      <th>3</th>\n",
       "      <td>0</td>\n",
       "      <td>U dun say so early hor... U c already then say...</td>\n",
       "      <td>49</td>\n",
       "      <td>13</td>\n",
       "      <td>1</td>\n",
       "    </tr>\n",
       "    <tr>\n",
       "      <th>4</th>\n",
       "      <td>0</td>\n",
       "      <td>Nah I don't think he goes to usf, he lives aro...</td>\n",
       "      <td>61</td>\n",
       "      <td>15</td>\n",
       "      <td>1</td>\n",
       "    </tr>\n",
       "  </tbody>\n",
       "</table>\n",
       "</div>"
      ],
      "text/plain": [
       "   target                                               text  num_character  \\\n",
       "0       0  Go until jurong point, crazy.. Available only ...            111   \n",
       "1       0                      Ok lar... Joking wif u oni...             29   \n",
       "2       1  Free entry in 2 a wkly comp to win FA Cup fina...            155   \n",
       "3       0  U dun say so early hor... U c already then say...             49   \n",
       "4       0  Nah I don't think he goes to usf, he lives aro...             61   \n",
       "\n",
       "   num_words  num_sentences  \n",
       "0         24              2  \n",
       "1          8              2  \n",
       "2         37              2  \n",
       "3         13              1  \n",
       "4         15              1  "
      ]
     },
     "execution_count": 85,
     "metadata": {},
     "output_type": "execute_result"
    }
   ],
   "source": [
    "df.head()"
   ]
  },
  {
   "cell_type": "code",
   "execution_count": 86,
   "id": "0bf0fd57",
   "metadata": {},
   "outputs": [
    {
     "data": {
      "text/html": [
       "<div>\n",
       "<style scoped>\n",
       "    .dataframe tbody tr th:only-of-type {\n",
       "        vertical-align: middle;\n",
       "    }\n",
       "\n",
       "    .dataframe tbody tr th {\n",
       "        vertical-align: top;\n",
       "    }\n",
       "\n",
       "    .dataframe thead th {\n",
       "        text-align: right;\n",
       "    }\n",
       "</style>\n",
       "<table border=\"1\" class=\"dataframe\">\n",
       "  <thead>\n",
       "    <tr style=\"text-align: right;\">\n",
       "      <th></th>\n",
       "      <th>num_character</th>\n",
       "      <th>num_words</th>\n",
       "      <th>num_sentences</th>\n",
       "    </tr>\n",
       "  </thead>\n",
       "  <tbody>\n",
       "    <tr>\n",
       "      <th>count</th>\n",
       "      <td>5169.000000</td>\n",
       "      <td>5169.000000</td>\n",
       "      <td>5169.000000</td>\n",
       "    </tr>\n",
       "    <tr>\n",
       "      <th>mean</th>\n",
       "      <td>78.977945</td>\n",
       "      <td>18.455794</td>\n",
       "      <td>1.965564</td>\n",
       "    </tr>\n",
       "    <tr>\n",
       "      <th>std</th>\n",
       "      <td>58.236293</td>\n",
       "      <td>13.324758</td>\n",
       "      <td>1.448541</td>\n",
       "    </tr>\n",
       "    <tr>\n",
       "      <th>min</th>\n",
       "      <td>2.000000</td>\n",
       "      <td>1.000000</td>\n",
       "      <td>1.000000</td>\n",
       "    </tr>\n",
       "    <tr>\n",
       "      <th>25%</th>\n",
       "      <td>36.000000</td>\n",
       "      <td>9.000000</td>\n",
       "      <td>1.000000</td>\n",
       "    </tr>\n",
       "    <tr>\n",
       "      <th>50%</th>\n",
       "      <td>60.000000</td>\n",
       "      <td>15.000000</td>\n",
       "      <td>1.000000</td>\n",
       "    </tr>\n",
       "    <tr>\n",
       "      <th>75%</th>\n",
       "      <td>117.000000</td>\n",
       "      <td>26.000000</td>\n",
       "      <td>2.000000</td>\n",
       "    </tr>\n",
       "    <tr>\n",
       "      <th>max</th>\n",
       "      <td>910.000000</td>\n",
       "      <td>220.000000</td>\n",
       "      <td>38.000000</td>\n",
       "    </tr>\n",
       "  </tbody>\n",
       "</table>\n",
       "</div>"
      ],
      "text/plain": [
       "       num_character    num_words  num_sentences\n",
       "count    5169.000000  5169.000000    5169.000000\n",
       "mean       78.977945    18.455794       1.965564\n",
       "std        58.236293    13.324758       1.448541\n",
       "min         2.000000     1.000000       1.000000\n",
       "25%        36.000000     9.000000       1.000000\n",
       "50%        60.000000    15.000000       1.000000\n",
       "75%       117.000000    26.000000       2.000000\n",
       "max       910.000000   220.000000      38.000000"
      ]
     },
     "execution_count": 86,
     "metadata": {},
     "output_type": "execute_result"
    }
   ],
   "source": [
    "df[['num_character', 'num_words', 'num_sentences']].describe()"
   ]
  },
  {
   "cell_type": "code",
   "execution_count": 87,
   "id": "752bdcee",
   "metadata": {},
   "outputs": [
    {
     "data": {
      "text/html": [
       "<div>\n",
       "<style scoped>\n",
       "    .dataframe tbody tr th:only-of-type {\n",
       "        vertical-align: middle;\n",
       "    }\n",
       "\n",
       "    .dataframe tbody tr th {\n",
       "        vertical-align: top;\n",
       "    }\n",
       "\n",
       "    .dataframe thead th {\n",
       "        text-align: right;\n",
       "    }\n",
       "</style>\n",
       "<table border=\"1\" class=\"dataframe\">\n",
       "  <thead>\n",
       "    <tr style=\"text-align: right;\">\n",
       "      <th></th>\n",
       "      <th>num_character</th>\n",
       "      <th>num_words</th>\n",
       "      <th>num_sentences</th>\n",
       "    </tr>\n",
       "  </thead>\n",
       "  <tbody>\n",
       "    <tr>\n",
       "      <th>count</th>\n",
       "      <td>4516.000000</td>\n",
       "      <td>4516.000000</td>\n",
       "      <td>4516.000000</td>\n",
       "    </tr>\n",
       "    <tr>\n",
       "      <th>mean</th>\n",
       "      <td>70.459256</td>\n",
       "      <td>17.123782</td>\n",
       "      <td>1.820195</td>\n",
       "    </tr>\n",
       "    <tr>\n",
       "      <th>std</th>\n",
       "      <td>56.358207</td>\n",
       "      <td>13.493970</td>\n",
       "      <td>1.383657</td>\n",
       "    </tr>\n",
       "    <tr>\n",
       "      <th>min</th>\n",
       "      <td>2.000000</td>\n",
       "      <td>1.000000</td>\n",
       "      <td>1.000000</td>\n",
       "    </tr>\n",
       "    <tr>\n",
       "      <th>25%</th>\n",
       "      <td>34.000000</td>\n",
       "      <td>8.000000</td>\n",
       "      <td>1.000000</td>\n",
       "    </tr>\n",
       "    <tr>\n",
       "      <th>50%</th>\n",
       "      <td>52.000000</td>\n",
       "      <td>13.000000</td>\n",
       "      <td>1.000000</td>\n",
       "    </tr>\n",
       "    <tr>\n",
       "      <th>75%</th>\n",
       "      <td>90.000000</td>\n",
       "      <td>22.000000</td>\n",
       "      <td>2.000000</td>\n",
       "    </tr>\n",
       "    <tr>\n",
       "      <th>max</th>\n",
       "      <td>910.000000</td>\n",
       "      <td>220.000000</td>\n",
       "      <td>38.000000</td>\n",
       "    </tr>\n",
       "  </tbody>\n",
       "</table>\n",
       "</div>"
      ],
      "text/plain": [
       "       num_character    num_words  num_sentences\n",
       "count    4516.000000  4516.000000    4516.000000\n",
       "mean       70.459256    17.123782       1.820195\n",
       "std        56.358207    13.493970       1.383657\n",
       "min         2.000000     1.000000       1.000000\n",
       "25%        34.000000     8.000000       1.000000\n",
       "50%        52.000000    13.000000       1.000000\n",
       "75%        90.000000    22.000000       2.000000\n",
       "max       910.000000   220.000000      38.000000"
      ]
     },
     "execution_count": 87,
     "metadata": {},
     "output_type": "execute_result"
    }
   ],
   "source": [
    "# ham messages\n",
    "df[df['target'] == 0][['num_character', 'num_words', 'num_sentences']].describe()"
   ]
  },
  {
   "cell_type": "code",
   "execution_count": 88,
   "id": "199632c7",
   "metadata": {},
   "outputs": [
    {
     "data": {
      "text/html": [
       "<div>\n",
       "<style scoped>\n",
       "    .dataframe tbody tr th:only-of-type {\n",
       "        vertical-align: middle;\n",
       "    }\n",
       "\n",
       "    .dataframe tbody tr th {\n",
       "        vertical-align: top;\n",
       "    }\n",
       "\n",
       "    .dataframe thead th {\n",
       "        text-align: right;\n",
       "    }\n",
       "</style>\n",
       "<table border=\"1\" class=\"dataframe\">\n",
       "  <thead>\n",
       "    <tr style=\"text-align: right;\">\n",
       "      <th></th>\n",
       "      <th>num_character</th>\n",
       "      <th>num_words</th>\n",
       "      <th>num_sentences</th>\n",
       "    </tr>\n",
       "  </thead>\n",
       "  <tbody>\n",
       "    <tr>\n",
       "      <th>count</th>\n",
       "      <td>653.000000</td>\n",
       "      <td>653.000000</td>\n",
       "      <td>653.000000</td>\n",
       "    </tr>\n",
       "    <tr>\n",
       "      <th>mean</th>\n",
       "      <td>137.891271</td>\n",
       "      <td>27.667688</td>\n",
       "      <td>2.970904</td>\n",
       "    </tr>\n",
       "    <tr>\n",
       "      <th>std</th>\n",
       "      <td>30.137753</td>\n",
       "      <td>7.008418</td>\n",
       "      <td>1.488425</td>\n",
       "    </tr>\n",
       "    <tr>\n",
       "      <th>min</th>\n",
       "      <td>13.000000</td>\n",
       "      <td>2.000000</td>\n",
       "      <td>1.000000</td>\n",
       "    </tr>\n",
       "    <tr>\n",
       "      <th>25%</th>\n",
       "      <td>132.000000</td>\n",
       "      <td>25.000000</td>\n",
       "      <td>2.000000</td>\n",
       "    </tr>\n",
       "    <tr>\n",
       "      <th>50%</th>\n",
       "      <td>149.000000</td>\n",
       "      <td>29.000000</td>\n",
       "      <td>3.000000</td>\n",
       "    </tr>\n",
       "    <tr>\n",
       "      <th>75%</th>\n",
       "      <td>157.000000</td>\n",
       "      <td>32.000000</td>\n",
       "      <td>4.000000</td>\n",
       "    </tr>\n",
       "    <tr>\n",
       "      <th>max</th>\n",
       "      <td>224.000000</td>\n",
       "      <td>46.000000</td>\n",
       "      <td>9.000000</td>\n",
       "    </tr>\n",
       "  </tbody>\n",
       "</table>\n",
       "</div>"
      ],
      "text/plain": [
       "       num_character   num_words  num_sentences\n",
       "count     653.000000  653.000000     653.000000\n",
       "mean      137.891271   27.667688       2.970904\n",
       "std        30.137753    7.008418       1.488425\n",
       "min        13.000000    2.000000       1.000000\n",
       "25%       132.000000   25.000000       2.000000\n",
       "50%       149.000000   29.000000       3.000000\n",
       "75%       157.000000   32.000000       4.000000\n",
       "max       224.000000   46.000000       9.000000"
      ]
     },
     "execution_count": 88,
     "metadata": {},
     "output_type": "execute_result"
    }
   ],
   "source": [
    "# spam messages\n",
    "df[df['target'] == 1][['num_character', 'num_words', 'num_sentences']].describe()"
   ]
  },
  {
   "cell_type": "code",
   "execution_count": 89,
   "id": "b9a6e714",
   "metadata": {},
   "outputs": [],
   "source": [
    "import seaborn as sns"
   ]
  },
  {
   "cell_type": "code",
   "execution_count": 90,
   "id": "a68f73d1",
   "metadata": {},
   "outputs": [
    {
     "data": {
      "text/plain": [
       "<Axes: xlabel='num_words', ylabel='Count'>"
      ]
     },
     "execution_count": 90,
     "metadata": {},
     "output_type": "execute_result"
    },
    {
     "data": {
      "image/png": "[encoded data removed]",
      "text/plain": [
       "<Figure size 1200x800 with 1 Axes>"
      ]
     },
     "metadata": {},
     "output_type": "display_data"
    }
   ],
   "source": [
    "plt.figure(figsize=(12,8))\n",
    "sns.histplot(df[df['target']==0]['num_words'])\n",
    "sns.histplot(df[df['target']==1]['num_words'],color='red')"
   ]
  },
  {
   "cell_type": "code",
   "execution_count": 91,
   "id": "5c9f5e42",
   "metadata": {},
   "outputs": [
    {
     "data": {
      "text/plain": [
       "<Axes: xlabel='num_character', ylabel='Count'>"
      ]
     },
     "execution_count": 91,
     "metadata": {},
     "output_type": "execute_result"
    },
    {
     "data": {
      "image/png": "[encoded data removed]",
      "text/plain": [
       "<Figure size 1200x800 with 1 Axes>"
      ]
     },
     "metadata": {},
     "output_type": "display_data"
    }
   ],
   "source": [
    "plt.figure(figsize=(12,8))\n",
    "sns.histplot(df[df['target']==0]['num_character'])\n",
    "sns.histplot(df[df['target']==1]['num_character'],color='red')"
   ]
  },
  {
   "cell_type": "code",
   "execution_count": 92,
   "id": "425ca484",
   "metadata": {},
   "outputs": [
    {
     "data": {
      "text/plain": [
       "<Axes: xlabel='num_sentences', ylabel='Count'>"
      ]
     },
     "execution_count": 92,
     "metadata": {},
     "output_type": "execute_result"
    },
    {
     "data": {
      "image/png": "[encoded data removed]",
      "text/plain": [
       "<Figure size 1200x800 with 1 Axes>"
      ]
     },
     "metadata": {},
     "output_type": "display_data"
    }
   ],
   "source": [
    " plt.figure(figsize=(12,8))\n",
    "sns.histplot(df[df['target']==0]['num_sentences'])\n",
    "sns.histplot(df[df['target']==1]['num_sentences'],color='red')"
   ]
  },
  {
   "cell_type": "code",
   "execution_count": 93,
   "id": "0a387ec1",
   "metadata": {},
   "outputs": [
    {
     "name": "stderr",
     "output_type": "stream",
     "text": [
      "/Users/aakashkhanal/anaconda3/lib/python3.11/site-packages/seaborn/axisgrid.py:118: UserWarning: The figure layout has changed to tight\n",
      "  self._figure.tight_layout(*args, **kwargs)\n"
     ]
    },
    {
     "data": {
      "text/plain": [
       "<seaborn.axisgrid.PairGrid at 0x30f27ca50>"
      ]
     },
     "execution_count": 93,
     "metadata": {},
     "output_type": "execute_result"
    },
    {
     "data": {
      "image/png": "[encoded data removed]",
      "text/plain": [
       "<Figure size 808.875x750 with 12 Axes>"
      ]
     },
     "metadata": {},
     "output_type": "display_data"
    }
   ],
   "source": [
    "sns.pairplot(df,hue='target')"
   ]
  },
  {
   "cell_type": "code",
   "execution_count": 94,
   "id": "7cdf7253",
   "metadata": {},
   "outputs": [
    {
     "data": {
      "text/plain": [
       "<Axes: >"
      ]
     },
     "execution_count": 94,
     "metadata": {},
     "output_type": "execute_result"
    },
    {
     "data": {
      "image/png": "[encoded data removed]",
      "text/plain": [
       "<Figure size 640x480 with 2 Axes>"
      ]
     },
     "metadata": {},
     "output_type": "display_data"
    }
   ],
   "source": [
    "sns.heatmap(df.corr(numeric_only=True), annot=True)"
   ]
  },
  {
   "cell_type": "markdown",
   "id": "22a60d08",
   "metadata": {},
   "source": [
    "\n",
    "## 3. Data Preprocessing\n",
    "\n",
    "\n",
    "- lower case\n",
    "- Tokenization\n",
    "- Removing special characters\n",
    "- Removing stop words and punctuation\n",
    "- stemming"
   ]
  },
  {
   "cell_type": "code",
   "execution_count": 95,
   "id": "72145543",
   "metadata": {},
   "outputs": [],
   "source": [
    "from nltk.corpus import stopwords\n",
    "import string\n",
    "from nltk.stem.porter import PorterStemmer\n",
    "ps = PorterStemmer()\n",
    "\n",
    "def transform_text(text):\n",
    "    text = text.lower()\n",
    "    text = nltk.word_tokenize(text)\n",
    "\n",
    "    y = []\n",
    "    for i in text:\n",
    "        if i.isalnum():\n",
    "            y.append(i)\n",
    "\n",
    "    text = y[:]\n",
    "    y.clear()\n",
    "\n",
    "    for i in text:\n",
    "        if i not in stopwords.words('english') and i not in string.punctuation:\n",
    "            y.append(i)\n",
    "    \n",
    "    text = y[:]\n",
    "    y.clear()\n",
    "\n",
    "    for i in text:\n",
    "        y.append(ps.stem(i))\n",
    "\n",
    "    return \" \".join(y)\n"
   ]
  },
  {
   "cell_type": "code",
   "execution_count": 96,
   "id": "0159df03",
   "metadata": {},
   "outputs": [
    {
     "data": {
      "text/plain": [
       "'love youtub lectur machin learn'"
      ]
     },
     "execution_count": 96,
     "metadata": {},
     "output_type": "execute_result"
    }
   ],
   "source": [
    "transform_text('I love the youtube lectures on machine learning. How about you?')"
   ]
  },
  {
   "cell_type": "code",
   "execution_count": 97,
   "id": "291755e3",
   "metadata": {},
   "outputs": [
    {
     "data": {
      "text/plain": [
       "0       go jurong point crazi avail bugi n great world...\n",
       "1                                   ok lar joke wif u oni\n",
       "2       free entri 2 wkli comp win fa cup final tkt 21...\n",
       "3                     u dun say earli hor u c alreadi say\n",
       "4                    nah think goe usf live around though\n",
       "                              ...                        \n",
       "5567    2nd time tri 2 contact u pound prize 2 claim e...\n",
       "5568                                b go esplanad fr home\n",
       "5569                                    piti mood suggest\n",
       "5570    guy bitch act like interest buy someth els nex...\n",
       "5571                                       rofl true name\n",
       "Name: text, Length: 5169, dtype: object"
      ]
     },
     "execution_count": 97,
     "metadata": {},
     "output_type": "execute_result"
    }
   ],
   "source": [
    "# applying into whole text\n",
    "\n",
    "df['text'].apply(transform_text)"
   ]
  },
  {
   "cell_type": "code",
   "execution_count": 98,
   "id": "736404a4",
   "metadata": {},
   "outputs": [
    {
     "name": "stderr",
     "output_type": "stream",
     "text": [
      "/var/folders/nn/lc5n9zn964zcgsw9v2_vpjvw0000gn/T/ipykernel_2530/283536690.py:1: SettingWithCopyWarning: \n",
      "A value is trying to be set on a copy of a slice from a DataFrame.\n",
      "Try using .loc[row_indexer,col_indexer] = value instead\n",
      "\n",
      "See the caveats in the documentation: https://pandas.pydata.org/pandas-docs/stable/user_guide/indexing.html#returning-a-view-versus-a-copy\n",
      "  df['transformed_text'] = df['text'].apply(transform_text)\n"
     ]
    }
   ],
   "source": [
    "df['transformed_text'] = df['text'].apply(transform_text)"
   ]
  },
  {
   "cell_type": "code",
   "execution_count": 99,
   "id": "460bb757",
   "metadata": {},
   "outputs": [
    {
     "data": {
      "text/html": [
       "<div>\n",
       "<style scoped>\n",
       "    .dataframe tbody tr th:only-of-type {\n",
       "        vertical-align: middle;\n",
       "    }\n",
       "\n",
       "    .dataframe tbody tr th {\n",
       "        vertical-align: top;\n",
       "    }\n",
       "\n",
       "    .dataframe thead th {\n",
       "        text-align: right;\n",
       "    }\n",
       "</style>\n",
       "<table border=\"1\" class=\"dataframe\">\n",
       "  <thead>\n",
       "    <tr style=\"text-align: right;\">\n",
       "      <th></th>\n",
       "      <th>target</th>\n",
       "      <th>text</th>\n",
       "      <th>num_character</th>\n",
       "      <th>num_words</th>\n",
       "      <th>num_sentences</th>\n",
       "      <th>transformed_text</th>\n",
       "    </tr>\n",
       "  </thead>\n",
       "  <tbody>\n",
       "    <tr>\n",
       "      <th>0</th>\n",
       "      <td>0</td>\n",
       "      <td>Go until jurong point, crazy.. Available only ...</td>\n",
       "      <td>111</td>\n",
       "      <td>24</td>\n",
       "      <td>2</td>\n",
       "      <td>go jurong point crazi avail bugi n great world...</td>\n",
       "    </tr>\n",
       "    <tr>\n",
       "      <th>1</th>\n",
       "      <td>0</td>\n",
       "      <td>Ok lar... Joking wif u oni...</td>\n",
       "      <td>29</td>\n",
       "      <td>8</td>\n",
       "      <td>2</td>\n",
       "      <td>ok lar joke wif u oni</td>\n",
       "    </tr>\n",
       "    <tr>\n",
       "      <th>2</th>\n",
       "      <td>1</td>\n",
       "      <td>Free entry in 2 a wkly comp to win FA Cup fina...</td>\n",
       "      <td>155</td>\n",
       "      <td>37</td>\n",
       "      <td>2</td>\n",
       "      <td>free entri 2 wkli comp win fa cup final tkt 21...</td>\n",
       "    </tr>\n",
       "    <tr>\n",
       "      <th>3</th>\n",
       "      <td>0</td>\n",
       "      <td>U dun say so early hor... U c already then say...</td>\n",
       "      <td>49</td>\n",
       "      <td>13</td>\n",
       "      <td>1</td>\n",
       "      <td>u dun say earli hor u c alreadi say</td>\n",
       "    </tr>\n",
       "    <tr>\n",
       "      <th>4</th>\n",
       "      <td>0</td>\n",
       "      <td>Nah I don't think he goes to usf, he lives aro...</td>\n",
       "      <td>61</td>\n",
       "      <td>15</td>\n",
       "      <td>1</td>\n",
       "      <td>nah think goe usf live around though</td>\n",
       "    </tr>\n",
       "  </tbody>\n",
       "</table>\n",
       "</div>"
      ],
      "text/plain": [
       "   target                                               text  num_character  \\\n",
       "0       0  Go until jurong point, crazy.. Available only ...            111   \n",
       "1       0                      Ok lar... Joking wif u oni...             29   \n",
       "2       1  Free entry in 2 a wkly comp to win FA Cup fina...            155   \n",
       "3       0  U dun say so early hor... U c already then say...             49   \n",
       "4       0  Nah I don't think he goes to usf, he lives aro...             61   \n",
       "\n",
       "   num_words  num_sentences                                   transformed_text  \n",
       "0         24              2  go jurong point crazi avail bugi n great world...  \n",
       "1          8              2                              ok lar joke wif u oni  \n",
       "2         37              2  free entri 2 wkli comp win fa cup final tkt 21...  \n",
       "3         13              1                u dun say earli hor u c alreadi say  \n",
       "4         15              1               nah think goe usf live around though  "
      ]
     },
     "execution_count": 99,
     "metadata": {},
     "output_type": "execute_result"
    }
   ],
   "source": [
    "df.head()"
   ]
  },
  {
   "cell_type": "code",
   "execution_count": null,
   "id": "26af6da8",
   "metadata": {},
   "outputs": [
    {
     "name": "stdout",
     "output_type": "stream",
     "text": [
      "Collecting wordcloud\n",
      "  Obtaining dependency information for wordcloud from https://files.pythonhosted.org/packages/fa/5f/34a0c0be52dc95f96aa1197f03ad5d5c58a9901c74f050d21a3e1b21ebf9/wordcloud-1.9.4-cp311-cp311-macosx_11_0_arm64.whl.metadata\n",
      "  Downloading wordcloud-1.9.4-cp311-cp311-macosx_11_0_arm64.whl.metadata (3.4 kB)\n",
      "Requirement already satisfied: numpy>=1.6.1 in /Users/aakashkhanal/anaconda3/lib/python3.11/site-packages (from wordcloud) (1.26.4)\n",
      "Requirement already satisfied: pillow in /Users/aakashkhanal/anaconda3/lib/python3.11/site-packages (from wordcloud) (9.4.0)\n",
      "Requirement already satisfied: matplotlib in /Users/aakashkhanal/anaconda3/lib/python3.11/site-packages (from wordcloud) (3.7.2)\n",
      "Requirement already satisfied: contourpy>=1.0.1 in /Users/aakashkhanal/anaconda3/lib/python3.11/site-packages (from matplotlib->wordcloud) (1.0.5)\n",
      "Requirement already satisfied: cycler>=0.10 in /Users/aakashkhanal/anaconda3/lib/python3.11/site-packages (from matplotlib->wordcloud) (0.11.0)\n",
      "Requirement already satisfied: fonttools>=4.22.0 in /Users/aakashkhanal/anaconda3/lib/python3.11/site-packages (from matplotlib->wordcloud) (4.25.0)\n",
      "Requirement already satisfied: kiwisolver>=1.0.1 in /Users/aakashkhanal/anaconda3/lib/python3.11/site-packages (from matplotlib->wordcloud) (1.4.4)\n",
      "Requirement already satisfied: packaging>=20.0 in /Users/aakashkhanal/anaconda3/lib/python3.11/site-packages (from matplotlib->wordcloud) (23.1)\n",
      "Requirement already satisfied: pyparsing<3.1,>=2.3.1 in /Users/aakashkhanal/anaconda3/lib/python3.11/site-packages (from matplotlib->wordcloud) (3.0.9)\n",
      "Requirement already satisfied: python-dateutil>=2.7 in /Users/aakashkhanal/anaconda3/lib/python3.11/site-packages (from matplotlib->wordcloud) (2.8.2)\n",
      "Requirement already satisfied: six>=1.5 in /Users/aakashkhanal/anaconda3/lib/python3.11/site-packages (from python-dateutil>=2.7->matplotlib->wordcloud) (1.16.0)\n",
      "Downloading wordcloud-1.9.4-cp311-cp311-macosx_11_0_arm64.whl (167 kB)\n",
      "\u001b[2K   \u001b[90m━━━━━━━━━━━━━━━━━━━━━━━━━━━━━━━━━━━━━━━\u001b[0m \u001b[32m167.6/167.6 kB\u001b[0m \u001b[31m410.2 kB/s\u001b[0m eta \u001b[36m0:00:00\u001b[0ma \u001b[36m0:00:01\u001b[0m\n",
      "\u001b[?25hInstalling collected packages: wordcloud\n",
      "Successfully installed wordcloud-1.9.4\n"
     ]
    }
   ],
   "source": [
    "# !pip install wordcloud"
   ]
  },
  {
   "cell_type": "code",
   "execution_count": 104,
   "id": "14f6ba10",
   "metadata": {},
   "outputs": [],
   "source": [
    "from wordcloud import WordCloud\n",
    "wc = WordCloud(width=50, height=50, min_font_size=10, background_color='white')"
   ]
  },
  {
   "cell_type": "code",
   "execution_count": 110,
   "id": "acc17f7e",
   "metadata": {},
   "outputs": [
    {
     "data": {
      "text/plain": [
       "'free entri 2 wkli comp win fa cup final tkt 21st may text fa 87121 receiv entri question std txt rate c appli 08452810075over18 freemsg hey darl 3 week word back like fun still tb ok xxx std chg send rcv winner valu network custom select receivea prize reward claim call claim code kl341 valid 12 hour mobil 11 month u r entitl updat latest colour mobil camera free call mobil updat co free 08002986030 six chanc win cash 100 pound txt csh11 send cost 6day tsandc appli repli hl 4 info urgent 1 week free membership prize jackpot txt word claim 81010 c lccltd pobox 4403ldnw1a7rw18 xxxmobilemovieclub use credit click wap link next txt messag click http england v macedonia dont miss news txt ur nation team 87077 eg england 87077 tri wale scotland poboxox36504w45wq thank subscript rington uk mobil charg pleas confirm repli ye repli charg 07732584351 rodger burn msg tri call repli sm free nokia mobil free camcord pleas call 08000930705 deliveri tomorrow sm ac sptv new jersey devil detroit red wing play ice hockey correct incorrect end repli end sptv congrat 1 year special cinema pass 2 call 09061209465 c suprman v matrix3 starwars3 etc 4 free 150pm dont miss valu custom pleas advis follow recent review mob award bonu prize call 09066364589 urgent ur award complimentari trip eurodisinc trav aco entry41 claim txt di 87121 morefrmmob shracomorsglsuplt 10 ls1 3aj hear new come ken stuff pleas call custom servic repres 0800 169 6031 guarante cash prize free rington wait collect simpli text password 85069 verifi get usher britney fml gent tri contact last weekend draw show prize guarante call claim code k52 valid 12hr 150ppm winner u special select 2 receiv 4 holiday flight inc speak live oper 2 claim privat 2004 account statement 07742676969 show 786 unredeem bonu point claim call 08719180248 identifi code 45239 expir urgent mobil award bonu caller prize final tri contact u call landlin 09064019788 box42wr29c 150ppm today voda number end 7548 select receiv 350 award match pleas call 08712300220 quot claim code 4041 standard rate app sunshin quiz wkli q win top soni dvd player u know countri algarv txt ansr sp tyron want 2 get laid tonight want real dog locat sent direct 2 ur mob join uk largest dog network bt txting gravel 69888 nt ec2a 150p rcv msg chat svc free hardcor servic text go 69988 u get noth u must age verifi yr network tri freemsg repli text randi sexi femal live local luv hear netcollex ltd 08700621170150p per msg repli stop end custom servic annonc new year deliveri wait pleas call 07046744435 arrang deliveri winner u special select 2 receiv cash 4 holiday flight inc speak live oper 2 claim 0871277810810 stop bootydeli invit friend repli see stop send stop frnd 62468 bangbab ur order way u receiv servic msg 2 download ur content u goto wap bangb tv ur mobil menu urgent tri contact last weekend draw show prize guarante call claim code s89 valid 12hr pleas call custom servic repres freephon 0808 145 4742 guarante cash prize uniqu enough find 30th august 500 new mobil 2004 must go txt nokia 89545 collect today 2optout u meet ur dream partner soon ur career 2 flyng start 2 find free txt horo follow ur star sign horo ari text meet someon sexi today u find date even flirt join 4 10p repli name age eg sam 25 18 recd thirtyeight penc u 447801259231 secret admir look 2 make contact r reveal think ur 09058094597 congratul ur award 500 cd voucher 125gift guarante free entri 2 100 wkli draw txt music 87066 tnc tri contact repli offer video handset 750 anytim network min unlimit text camcord repli call 08000930705 hey realli horni want chat see nake text hot 69698 text charg 150pm unsubscrib text stop 69698 ur rington servic chang 25 free credit go choos content stop txt club stop 87070 club4 po box1146 mk45 2wt rington club get uk singl chart mobil week choos top qualiti rington messag free charg hmv bonu special 500 pound genuin hmv voucher answer 4 easi question play send hmv 86688 info custom may claim free camera phone upgrad pay go sim card loyalti call 0845 021 end c appli sm ac blind date 4u rodds1 aberdeen unit kingdom check http sm blind date send hide themob check newest select content game tone gossip babe sport keep mobil fit funki text wap 82468 think ur smart win week weekli quiz text play 85222 cs winnersclub po box 84 m26 3uz decemb mobil entitl updat latest colour camera mobil free call mobil updat co free 08002986906 call germani 1 penc per minut call fix line via access number 0844 861 85 prepay direct access valentin day special win quiz take partner trip lifetim send go 83600 rcvd fanci shag txt xxuk suzi txt cost per msg tnc websit x ur current 500 pound maxim ur send cash 86688 cc 08708800282 xma offer latest motorola sonyericsson nokia free bluetooth doubl min 1000 txt orang call mobileupd8 08000839402 discount code rp176781 stop messag repli stop custom servic 08717205546 thank rington order refer t91 charg gbp 4 per week unsubscrib anytim call custom servic 09057039994 doubl min txt 4 6month free bluetooth orang avail soni nokia motorola phone call mobileupd8 08000839402 4mth half price orang line rental latest camera phone 4 free phone 11mth call mobilesdirect free 08000938767 updat or2stoptxt free rington text first 87131 poli text get 87131 true tone help 0845 2814032 16 1st free tone txt stop 100 date servic cal l 09064012103 box334sk38ch free entri weekli competit text word win 80086 18 c send logo 2 ur lover 2 name join heart txt love name1 name2 mobno eg love adam eve 07123456789 87077 yahoo pobox36504w45wq txtno 4 ad 150p someon contact date servic enter phone fanci find call landlin 09111032124 pobox12n146tf150p urgent mobil number award prize guarante call 09058094455 land line claim valid 12hr congrat nokia 3650 video camera phone call 09066382422 call cost 150ppm ave call 3min vari mobil close 300603 post bcm4284 ldn wc1n3xx loan purpos homeown tenant welcom previous refus still help call free 0800 1956669 text back upgrdcentr orang custom may claim free camera phone upgrad loyalti call 0207 153 offer end 26th juli c appli avail okmail dear dave final notic collect 4 tenerif holiday 5000 cash award call 09061743806 landlin tc sae box326 cw25wx 150ppm want 2 get laid tonight want real dog locat sent direct 2 ur mob join uk largest dog network txting moan 69888nyt ec2a 150p free messag activ 500 free text messag repli messag word free term condit visit congrat 1 year special cinema pass 2 call 09061209465 c suprman v matrix3 starwars3 etc 4 free 150pm dont miss congratul week competit draw u prize claim call 09050002311 b4280703 sm 18 150ppm guarante latest nokia phone 40gb ipod mp3 player prize txt word collect 83355 ibhltd ldnw15h boltblu tone 150p repli poli mono eg poly3 cha cha slide yeah slow jamz toxic come stop 4 tone txt credit top http renew pin tgxxrz urgent mobil award bonu caller prize 2nd attempt contact call box95qu today offer claim ur worth discount voucher text ye 85023 savamob member offer mobil cs sub 16 unsub repli x reciev tone within next 24hr term condit pleas see channel u teletext pg 750 privat 2003 account statement 07815296484 show 800 point call 08718738001 identifi code 41782 expir monthlysubscript csc web age16 2stop txt stop gent tri contact last weekend draw show prize guarante call claim code k52 valid 12hr 150ppm cash prize claim call09050000327 mobil number claim call us back ring claim hot line 09050005321 tri contact repli offer 750 min 150 textand new video phone call 08002988890 repli free deliveri tomorrow ur chanc win wkli shop spree txt shop c custcar 08715705022 special select receiv 2000 pound award call 08712402050 line close cost 10ppm cs appli ag promo privat 2003 account statement 07753741225 show 800 point call 08715203677 identifi code 42478 expir import custom servic announc call freephon 0800 542 0825 xclusiv clubsaisai 2morow soire special zouk nichol rose 2 ladi info 22 day kick euro2004 u kept date latest news result daili remov send get txt stop 83222 new textbuddi chat 2 horni guy ur area 4 25p free 2 receiv search postcod txt one name 89693 today vodafon number end 4882 select receiv award number match call 09064019014 receiv award dear voucher holder 2 claim week offer pc go http ts cs stop text txt stop 80062 privat 2003 account statement show 800 point call 08715203694 identifi code 40533 expir cash prize claim call09050000327 c rstm sw7 3ss 150ppm 88800 89034 premium phone servic call 08718711108 sm ac sun0819 post hello seem cool get ur 1st rington free repli msg tone gr8 top 20 tone phone everi week per wk 2 opt send stop 08452810071 16 hi sue 20 year old work lapdanc love sex text live bedroom text sue textoper g2 1da 150ppmsg forward 448712404000 pleas call 08712404000 immedi urgent messag wait review keep fantast nokia game deck club nokia go 2 unsubscrib alert repli word 4mth half price orang line rental latest camera phone 4 free phone call mobilesdirect free 08000938767 updat or2stoptxt cs 08714712388 cost 10p urgent 2nd attempt contact u u call 09071512433 b4 050703 csbcm4235wc1n3xx callcost 150ppm mobilesvari 50 guarante cash prize claim yr prize call custom servic repres 08714712394 email alertfrom jeri stewarts 2kbsubject prescripiton drvgsto listen email call 123 hi custom loyalti offer new nokia6650 mobil txtauction txt word start 81151 get 4t ctxt tc u subscrib best mobil content servic uk per 10 day send stop helplin 08706091795 realiz 40 year thousand old ladi run around tattoo import custom servic announc premier romant pari 2 night 2 flight book 4 next year call 08704439680t cs appli urgent ur guarante award still unclaim call 09066368327 claimcod m39m51 ur award citi break could win summer shop spree everi wk txt store 88039 skilgm tscs087147403231winawk age16 import custom servic announc premier call freephon 0800 542 0578 ever thought live good life perfect partner txt back name age join mobil commun 5 free top polyphon tone call 087018728737 nation rate get toppoli tune sent everi week text subpoli 81618 per pole unsub 08718727870 orang custom may claim free camera phone upgrad loyalti call 0207 153 offer end 14thmarch c appli availa last chanc claim ur worth discount voucher today text shop 85023 savamob offer mobil cs savamob pobox84 m263uz sub 16 free 1st week no1 nokia tone 4 ur mobil everi week txt nokia 8077 get txting tell ur mate pobox 36504 w45wq guarante award even cashto claim ur award call free 08000407165 2 stop getstop 88222 php rg21 4jx congratul ur award either cd gift voucher free entri 2 weekli draw txt music 87066 tnc u outbid simonwatson5120 shinco dvd plyr 2 bid visit sm 2 end bid notif repli end smsservic yourinclus text credit pl goto 3qxj9 unsubscrib stop extra charg help 9ae 25p 4 alfi moon children need song ur mob tell ur m8 txt tone chariti 8007 nokia poli chariti poli zed 08701417012 profit 2 chariti u secret admir reveal think u r special call opt repli reveal stop per msg recd cust care 07821230901 dear voucher holder claim week offer pc pleas go http ts cs appli stop text txt stop 80062 want 750 anytim network min 150 text new video phone five pound per week call 08002888812 repli deliveri tomorrow tri contact offer new video phone 750 anytim network min half price rental camcord call 08000930705 repli deliveri wed last chanc 2 claim ur worth discount ye 85023 offer mobil cs sub 16 remov txt x stop urgent call 09066350750 landlin complimentari 4 ibiza holiday cash await collect sae cs po box 434 sk3 8wp 150 ppm talk sexi make new friend fall love world discreet text date servic text vip 83110 see could meet congratul ur award either yr suppli cd virgin record mysteri gift guarante call 09061104283 ts cs approx 3min privat 2003 account statement 07808 xxxxxx show 800 point call 08719899217 identifi code 41685 expir hello need posh bird chap user trial prod champney put need address dob asap ta r u want xma 100 free text messag new video phone half price line rental call free 0800 0721072 find shop till u drop either 10k 5k cash travel voucher call ntt po box cr01327bt fixedlin cost 150ppm mobil vari sunshin quiz wkli q win top soni dvd player u know countri liverpool play mid week txt ansr sp tyron u secret admir look 2 make contact r reveal think ur 09058094565 u secret admir look 2 make contact r reveal think ur remind download content alreadi paid goto http mymobi collect content lastest stereophon marley dizze racal libertin stroke win nookii game flirt click themob wap bookmark text wap 82468 januari male sale hot gay chat cheaper call nation rate cheap peak stop text call 08712460324 money r lucki winner 2 claim prize text money 2 88600 give away text rate box403 w1t1ji dear matthew pleas call 09063440451 landlin complimentari 4 lux tenerif holiday cash await collect ppm150 sae cs box334 sk38xh urgent call 09061749602 landlin complimentari 4 tenerif holiday cash await collect sae cs box 528 hp20 1yf 150ppm get touch folk wait compani txt back name age opt enjoy commun ur current 500 pound maxim ur send go 86688 cc 08718720201 po box filthi stori girl wait urgent tri contact today draw show prize guarante call 09050001808 land line claim m95 valid12hr congrat 2 mobil 3g videophon r call 09063458130 videochat wid mate play java game dload polyph music nolin rentl panason bluetoothhdset free nokia free motorola free doublemin doubletxt orang contract call mobileupd8 08000839402 call 2optout free 1st week no1 nokia tone 4 ur mob everi week txt nokia 8007 get txting tell ur mate pobox 36504 w45wq guess somebodi know secretli fanci wan na find give us call 09065394514 landlin datebox1282essexcm61xn 18 know someon know fanci call 09058097218 find pobox 6 ls15hb 150p 1000 flirt txt girl bloke ur name age eg girl zoe 18 8007 join get chat 18 day euro2004 kickoff u kept inform latest news result daili unsubscrib send get euro stop 83222 eastend tv quiz flower dot compar violet tulip lili txt e f 84025 4 chanc 2 win cash new local date area lot new peopl regist area repli date start 18 replys150 someon u know ask date servic 2 contact cant guess call 09058091854 reveal po box385 m6 6wu urgent tri contact today draw show prize guarante call 09050003091 land line claim c52 valid12hr dear u invit xchat final attempt contact u txt chat 86688 award sipix digit camera call 09061221061 landlin deliveri within 28day cs box177 m221bp 2yr warranti 150ppm 16 p win urgent mobil number award prize guarante call 09061790121 land line claim 3030 valid 12hr 150ppm dear subscrib ur draw 4 gift voucher b enter receipt correct an elvi presley birthday txt answer 80062 messag import inform o2 user today lucki day 2 find log onto http fantast surpris await 449050000301 price claim call 09050000301 bore speed date tri speedchat txt speedchat 80155 like em txt swap get new chatter chat80155 pobox36504w45wq rcd 16 want 750 anytim network min 150 text new video phone five pound per week call 08000776320 repli deliveri tomorrow take part mobil survey yesterday 500 text 2 use howev wish 2 get txt send txt 80160 c ur hmv quiz current maxim ur send hmv1 86688 dont forget place mani free request wish inform call 08707808226 know u u know send chat 86688 let find rcvd ldn 18 year thank winner notifi sm good luck futur market repli stop 84122 custom servic 08450542832 1000 girl mani local 2 u r virgin 2 r readi 2 4fil ur everi sexual need u 4fil text cute 69911 got take 2 take part wrc ralli oz u lucozad energi text ralli le 61200 25p see pack itcould u sex ur mobil free sexi pic jordan text babe everi wk get sexi celeb 4 pic 16 087016248 1 new voicemail pleas call 08719181503 win year suppli cd 4 store ur choic worth enter weekli draw txt music 87066 ts cs sim subscrib select receiv bonu get deliv door txt word ok 88600 claim exp 30apr 1 new voicemail pleas call 08719181513 1 nokia tone 4 ur mob everi week txt nok 87021 1st tone free get txtin tell ur friend 16 repli hl 4info repli name address receiv post week complet free accommod variou global locat free entri weekli comp send word enter 84128 18 c cust care 08712405020 pleas call 08712402779 immedi urgent messag wait hungri gay guy feel hungri 4 call 08718730555 stop text call 08712460324 u get 2 phone wan na chat 2 set meet call 09096102316 u cum 2moro luv jane xx network oper servic free c visit enjoy jamster videosound gold club credit 2 new get fun help call 09701213186 get 3 lion england tone repli lionm 4 mono lionp 4 poli 4 go 2 origin n best tone 3gbp network oper rate appli win newest potter order phoenix book 5 repli harri answer 5 question chanc first among reader ur balanc ur next question sang girl 80 2 answer txt ur answer good luck free2day sexi st georg day pic jordan txt pic 89080 dont miss everi wk sauci celeb 4 pic c 0870241182716 hot live fantasi call 08707509020 20p per min ntt ltd po box 1327 croydon cr9 5wb 0870 k bear pic nick tom pete dick fact type tri gay chat photo upload call 08718730666 2 stop text call 08712460324 500 new mobil 2004 must go txt nokia 89545 collect today 2optout txtauction doubl min doubl txt price linerent latest orang bluetooth mobil call mobileupd8 latest offer 08000839402 urgent import inform o2 user today lucki day 2 find log onto http fantast surpris await dear u invit xchat final attempt contact u txt chat 86688 ldn 18 yr congratul ur award either cd gift voucher free entri 2 weekli draw txt music 87066 tnc 1 win150ppmx3age16 sale arsen dartboard good condit doubl trebl free 1st week entri 2 textpod 4 chanc 2 win 40gb ipod cash everi wk txt pod 84128 ts cs custcar 08712405020 regist optin subscrib ur draw 4 gift voucher enter receipt correct an 80062 what no1 bbc chart summer final fanci chat flirt sexi singl yr area get match repli summer free 2 join optout txt stop help08714742804 clair havin borin time alon u wan na cum 2nite chat 09099725823 hope 2 c u luv clair xx bought one rington get text cost 3 pound offer tone etc 09066362231 urgent mobil 07xxxxxxxxx bonu caller prize 2nd attempt reach call 09066362231 asap 07801543489 guarante latest nokia phone 40gb ipod mp3 player prize txt word collect hi luci hubbi meetin day fri b alon hotel u fanci cumin pl leav msg 2day 09099726395 luci x account credit 500 free text messag activ txt word credit 80488 cs sm ac jsco energi high u may know 2channel 2day ur leadership skill r strong psychic repli an end repli end jsco hot live fantasi call 08707509020 20p per min ntt ltd po box 1327 croydon cr9 5wb 0870 nation rate call thank vote sing along star karaok mobil free link repli sing brand new mobil music servic live free music player arriv shortli instal phone brows content top artist urgent mobil award bonu caller prize 2nd attempt contact call box95qu bt nation rate nokia 7250i get win free auction take part send nokia 86021 hello orang 1 month free access game news sport plu 10 free text 20 photo messag repli ye term appli ur current 500 pound maxim ur send go 86688 cc 08718720201 sm auction brand new nokia 7250 4 auction today auction free 2 join take part txt nokia 86021 privat 2003 account statement show 800 point call 08719899230 identifi code 41685 expir regist subscrib yr draw 4 gift voucher b enter receipt correct an next olymp txt an 80062 urgent mobil number award prize guarante call 09061790121 land line claim valid 12hr 150ppm pro video club need help info call 08701237397 must club credit redeem enjoy u secret admir look 2 make contact r reveal think ur 09058094599 500 free text msg text ok 80488 credit account select stay 1 250 top british hotel noth holiday worth claim call london bx 526 sw73ss eeri nokia tone 4u rpli tone titl 8007 eg tone dracula 8007 titl ghost addamsfa munster exorcist twilight pobox36504w45wq 150p 0a network allow compani bill sm respons freemsg feelin kinda lnli hope u like 2 keep compani jst got cam mobi wan na c pic txt repli date 82242 msg150p 2rcv hlp 08712317606 stop 82242 ur chanc win cash everi wk txt action c custcar 08712405022 rgent 2nd attempt contact u u call 09071512433 b4 050703 csbcm4235wc1n3xx callcost 150ppm mobilesvari 50 hi ur lookin 4 sauci daytim fun wiv busti marri woman free next week chat 2 sort time 09099726429 janinexx urgent tri contact today draw show prize guarante call 09050001295 land line claim a21 valid 12hr monthli password wap use wap phone pc today vodafon number end 0089 last four digit select receiv award number match pleas call 09063442151 claim award free top rington weekli 1st week subpoli 3 per free msg sorri servic order 81303 could deliv suffici credit pleas top receiv servic hard live 121 chat choos girl connect live call 09094646899 cheap chat uk biggest live servic vu bcm1896wc1n3xx wow boy r back take 2007 uk tour win vip ticket vip club txt club trackmarqu ltd info vipclub4u hi mandi sullivan call hotmix fm chosen receiv easter prize draw pleas telephon 09041940223 claim prize transfer someon els ur go 2 bahama callfreefon 08081560665 speak live oper claim either bahama cruis cash opt txt x 07786200117 someon conact date servic enter phone fanci find call landlin pobox12n146tf15 hi 07734396839 ibh custom loyalti offer new nokia6600 mobil txtauction txt word start get 4t sm auction nokia 7250i get win free auction take part send nokia 86021 call freephon 0800 542 0578 buy space invad 4 chanc 2 win orig arcad game consol press 0 game arcad std wap charg see 4 term set purchas big brother alert comput select u 10k cash 150 voucher call ntt po box cro1327 bt landlin cost 150ppm mobil vari win winner foley ipod excit prize soon keep eye ur mobil visit today voda number end 1225 select receiv match pleas call 08712300220 quot claim code 3100 standard rate app hottest pic straight phone see get wet want xx text pic 89555 txt cost 150p textoper g696ga 18 xxx hack chat get backdoor entri 121 chat room fraction cost repli neo69 call 09050280520 subscrib 25p pm dp bcm box 8027 ldn wc1n3xx free nokia motorola upto 12mth linerent 500 free min free call mobileupd8 08001950382 call 2nd time tri 2 contact u 750 pound prize 2 claim easi call 08718726970 10p per min guarante cash claim yr prize call custom servic repres would like see xxx pic hot nearli ban uk u secret admir look 2 make contact r reveal think ur 09058094594 dear 0776xxxxxxx u invit xchat final attempt contact u txt chat 86688 ldn 18yr urgent pleas call 09061743811 landlin abta complimentari 4 tenerif holiday cash await collect sae cs box 326 cw25wx 150ppm call 09090900040 listen extrem dirti live chat go offic right total privaci one know sic listen 60p min freemsg hey u got 1 fone repli wild txt ill send u pic hurri im bore work xxx 18 stop2stop free entri 2 weekli comp chanc win ipod txt pod 80182 get entri std txt rate c appli 08452810073 detail new textbuddi chat 2 horni guy ur area 4 25p free 2 receiv search postcod txt one name 89693 08715500022 rpl stop 2 cnl call 08702490080 tell u 2 call 09066358152 claim prize u 2 enter ur mobil person detail prompt care free 1st week entri 2 textpod 4 chanc 2 win 40gb ipod cash everi wk txt vpod 81303 ts cs custcar 08712405020 peopl dog area call 09090204448 join like mind guy arrang 1 1 even minapn ls278bb well done 4 costa del sol holiday await collect call 09050090044 toclaim sae tc pobox334 stockport sk38xh max10min guess somebodi know secretli fanci wan na find give us call 09065394973 landlin datebox1282essexcm61xn 18 500 free text messag valid 31 decemb 2005 guarante award even cashto claim ur award call free 08000407165 2 stop getstop 88222 php repli win weekli 2006 fifa world cup held send stop 87239 end servic urgent pleas call 09061743810 landlin abta complimentari 4 tenerif holiday 5000 cash await collect sae cs box 326 cw25wx 150 ppm free tone hope enjoy new content text stop 61610 unsubscrib provid themob yo yo come new select hot download member get free click open next link sent ur fone great news call freefon 08006344447 claim guarante cash gift speak live oper u win music gift voucher everi week start txt word draw 87066 tsc call 09094100151 use ur min call cast mob vari servic provid aom aom box61 m60 1er u stop age urgent mobil bonu caller prize 2nd attempt reach call 09066362220 asap box97n7qp 150ppm eeri nokia tone 4u rpli tone titl 8007 eg tone dracula 8007 titl ghost addamsfa munster exorcist twilight pobox36504w45wq 150p sexi singl wait text age follow gender wither f gay men text age follow freemsg claim ur 250 sm ok 84025 use web2mobil 2 ur mate etc join c box139 la32wu 16 remov txtx stop 85233 free rington repli real well done england get offici poli rington colour flag yer mobil text tone flag 84199 txt eng stop box39822 w111wx final chanc claim ur worth discount voucher today text ye 85023 savamob member offer mobil cs savamob pobox84 m263uz sub 16 sm servic inclus text credit pl goto unsubscrib stop extra charg po box420 ip4 5we winner special select receiv cash award speak live oper claim call cost 10p sunshin hol claim ur med holiday send stamp self address envelop drink us uk po box 113 bray wicklow eir quiz start saturday unsub stop u win music gift voucher everi week start txt word draw 87066 tsc skillgam 1winaweek age16 150ppermesssubscript b4u voucher marsm log onto discount credit opt repli stop custom care call 08717168528 freemsg hey buffi 25 love satisfi men home alon feel randi repli 2 c pix qlynnbv help08700621170150p msg send stop stop txt free 1st week no1 nokia tone 4 ur mob everi week txt nokia 87077 get txting tell ur mate zed pobox 36504 w45wq free camera phone linerent 750 cross ntwk min price txt bundl deal also avbl call 08001950382 mf urgent mobil 07xxxxxxxxx bonu caller prize 2nd attempt reach call 09066362231 asap box97n7qp 150ppm urgent 4 costa del sol holiday await collect call 09050090044 toclaim sae tc pobox334 stockport sk38xh max10min guarante cash prize claim yr prize call custom servic repres 08714712379 cost 10p thank rington order ref number k718 mobil charg tone arriv pleas call custom servic 09065069120 hi ya babe x u 4goten bout scammer get smart though regular vodafon respond get prem rate no use also bewar back 2 work 2morro half term u c 2nite 4 sexi passion b4 2 go back chat 09099726481 luv dena call thank rington order ref number r836 mobil charg tone arriv pleas call custom servic 09065069154 splashmobil choos 1000 gr8 tone wk subscrit servic weekli tone cost 300p u one credit kick back enjoy heard u4 call 4 rude chat privat line 01223585334 cum wan 2c pic gettin shag text pix 8552 2end send stop 8552 sam xxx forward 88877 free entri weekli comp send word enter 88877 18 c 88066 88066 lost 3pound help mobil 11mth updat free orang latest colour camera mobil unlimit weekend call call mobil upd8 freefon 08000839402 2stoptx 1 new messag pleas call 08718738034 forward 21870000 hi mailbox messag sm alert 4 messag 21 match pleas call back 09056242159 retriev messag match mobi pub high street prize u know new duchess cornwal txt first name stop 008704050406 sp arrow nokia 7250i get win free auction take part send nokia 86021 congratul thank good friend u xma prize 2 claim easi call 08718726971 10p per minut tddnewslett game thedailydraw dear helen dozen free game great prizeswith urgent mobil number bonu caller prize 2nd attempt reach call 09066368753 asap box 97n7qp 150ppm doubl min txt orang price linerent motorola sonyericsson free call mobileupd8 08000839402 download mani rington u like restrict 1000 2 choos u even send 2 yr buddi txt sir 80082 pleas call 08712402902 immedi urgent messag wait spook mob halloween collect logo pic messag plu free eeri tone txt card spook 8007 zed 08701417012150p per fantasi footbal back tv go sky gamestar sky activ play dream team score start saturday regist sky opt 88088 tone club sub expir 2 repli monoc 4 mono polyc 4 poli 1 weekli 150p per week txt stop 2 stop msg free stream 0871212025016 xma prize draw tri contact today draw show prize guarante call 09058094565 land line valid 12hr ye place town meet excit adult singl uk txt chat 86688 someon contact date servic enter phone becausethey fanci find call landlin pobox1 w14rg 150p babe u want dont u babi im nasti thing 4 filthyguy fanci rude time sexi bitch go slo n hard txt xxx slo 4msg sm servic inclus text credit pl gotto login 3qxj9 unsubscrib stop extra charg help 08702840625 9ae valentin day special win quiz take partner trip lifetim send go 83600 rcvd guess first time creat web page read wrote wait opinion want friend ur chanc win cash everi wk txt play c custcar 08715705022 sppok ur mob halloween collect nokia logo pic messag plu free eeri tone txt card spook 8007 urgent call 09066612661 landlin complementari 4 tenerif holiday cash await collect sae cs po box 3 wa14 2px 150ppm sender hol offer winner valu network custom hvae select receiv reward collect call valid 24 hour acl03530150pm u nokia 6230 plu free digit camera u get u win free auction take part send nokia 83383 16 free entri weekli comp send word win 80086 18 c text82228 get rington logo game question info freemsg award free mini digit camera repli snap collect prize quizclub opt stop sp rwm messag brought gmw connect congrat 2 mobil 3g videophon r call 09063458130 videochat wid ur mate play java game dload polyph music nolin rentl bx420 ip4 5we 150p next amaz xxx picsfree1 video sent enjoy one vid enough 2day text back keyword picsfree1 get next video u subscrib best mobil content servic uk per ten day send stop helplin 08706091795 3 free tarot text find love life tri 3 free text chanc 85555 16 3 free msg join uk horniest dog servic u sex 2nite sign follow instruct txt entri 69888 150p knock knock txt whose 80082 enter r weekli draw 4 gift voucher 4 store yr choic cs age16 forward 21870000 hi mailbox messag sm alert 40 match pleas call back 09056242159 retriev messag match free ring tone text everi week get new tone 0870737910216yr urgent mobil 077xxx bonu caller prize 2nd attempt reach call 09066362206 asap box97n7qp 150ppm guarante latest nokia phone 40gb ipod mp3 player prize txt word collect 83355 ibhltd ldnw15h hello darl today would love chat dont tell look like sexi 8007 free 1st week no1 nokia tone 4 ur mob everi week txt nokia 8007 get txting tell ur mate pobox 36504 w4 5wq norm wan na get laid 2nite want real dog locat sent direct ur mobil join uk largest dog network txt park 69696 nyt ec2a 3lp tri contact respons offer new nokia fone camcord hit repli call 08000930705 deliveri new tone week includ 1 ab 2 sara 3 order follow instruct next messag urgent tri contact today draw show prize guarante call 09050003091 land line claim c52 valid 12hr sport fan get latest sport news str 2 ur mobil 1 wk free plu free tone txt sport 8007 norm urgent urgent 800 free flight europ give away call b4 10th sept take friend 4 free call claim ba128nnfwfly150ppm 88066 lost help freemsg fanci flirt repli date join uk fastest grow mobil date servic msg rcvd 25p optout txt stop repli date great new offer doubl min doubl txt best orang tariff get latest camera phone 4 free call mobileupd8 free 08000839402 2stoptxt cs hope enjoy new content text stop 61610 unsubscrib provid urgent pleas call 09066612661 landlin cash luxuri 4 canari island holiday await collect cs sae award 20m12aq 150ppm urgent pleas call 09066612661 landlin complimentari 4 lux costa del sol holiday cash await collect ppm 150 sae cs jame 28 eh74rr marri local women look discreet action 5 real match instantli phone text match 69969 msg cost 150p 2 stop txt stop bcmsfwc1n3xx burger king wan na play footi top stadium get 2 burger king 1st sept go larg super walk winner come take littl time child afraid dark becom teenag want stay night ur chanc win cash everi wk txt action c custcar 08712405022 bin award play 4 instant cash call 08715203028 claim everi 9th player win min optout 08718727870 freemsg fav xma tone repli real decemb mobil entitl updat latest colour camera mobil free call mobil updat co free 08002986906 gr8 poli tone 4 mob direct 2u rpli poli titl 8007 eg poli breathe1 titl crazyin sleepingwith finest ymca pobox365o4w45wq 300p interflora åòit late order interflora flower christma call 0800 505060 place order midnight tomorrow romcapspam everyon around respond well presenc sinc warm outgo bring real breath sunshin congratul thank good friend u xma prize 2 claim easi call 08712103738 10p per minut send logo 2 ur lover 2 name join heart txt love name1 name2 mobno eg love adam eve 07123456789 87077 yahoo pobox36504w45wq txtno 4 ad 150p tkt euro2004 cup final cash collect call 09058099801 b4190604 pobox 7876150ppm jamster get crazi frog sound poli text mad1 real text mad2 88888 6 crazi sound 3 c appli chanc realiti fantasi show call 08707509020 20p per min ntt ltd po box 1327 croydon cr9 5wb 0870 nation rate call adult 18 content video shortli chanc realiti fantasi show call 08707509020 20p per min ntt ltd po box 1327 croydon cr9 5wb 0870 nation rate call hey boy want hot xxx pic sent direct 2 ur phone txt porn 69855 24hr free 50p per day stop text stopbcm sf wc1n3xx doubl min 1000 txt orang tariff latest motorola sonyericsson nokia bluetooth free call mobileupd8 08000839402 yhl ur current 500 pound maxim ur send cash 86688 cc 08718720201 po box urgent mobil number award prize guarante call 09058094454 land line claim valid 12hr sorri u unsubscrib yet mob offer packag min term 54 week pl resubmit request expiri repli themob help 4 info 1 new messag pleas call 08712400200 current messag await collect collect messag call 08718723815 urgent mobil award bonu caller prize final attempt 2 contact u call 08714714011 ever notic drive anyon go slower idiot everyon drive faster maniac xma offer latest motorola sonyericsson nokia free bluetooth dvd doubl min 1000 txt orang call mobileupd8 08000839402 repli win weekli profession sport tiger wood play send stop 87239 end servic 1 polyphon tone 4 ur mob everi week txt pt2 87575 1st tone free get txtin tell ur friend 16 repli hl 4info messag free welcom new improv sex dog club unsubscrib servic repli stop msg 150p 12mth half price orang line rental 400min call mobileupd8 08000839402 free unlimit hardcor porn direct 2 mobil txt porn 69200 get free access 24 hr chrgd 50p per day txt stop 2exit msg free unsubscrib servic get ton sexi babe hunk straight phone go http subscript hi babe jordan r u im home abroad lone text back u wan na chat xxsp text stop stopcost 150p 08712400603 get brand new mobil phone agent mob plu load goodi info text mat 87021 lord ring return king store repli lotr 2 june 4 chanc 2 win lotr soundtrack cd stdtxtrate repli stop end txt good luck draw take place 28th feb good luck remov send stop 87239 custom servic 08708034412 1st wk free gr8 tone str8 2 u wk txt nokia 8007 classic nokia tone hit 8007 poli lookatm thank purchas video clip lookatm charg 35p think better send video mmsto 32323 sexi sexi cum text im wet warm readi porn u fun msg free recd msg 150p inc vat 2 cancel text stop 2nd time tri contact u prize claim call 09053750005 b4 sm 08718725756 140ppm dear voucher holder claim week offer pc pleas go http ts cs appli 2nd time tri 2 contact u 750 pound prize 2 claim easi call 08712101358 10p per min ur award citi break could win summer shop spree everi wk txt store urgent tri contact today draw show prize guarante call 09066358361 land line claim y87 valid 12hr thank rington order refer number x29 mobil charg tone arriv pleas call custom servic 09065989180 ur current 500 pound maxim ur send collect 83600 cc 08718720201 po box congratul thank good friend u xma prize 2 claim easi call 08718726978 10p per minut 44 7732584351 want new nokia 3510i colour phone deliveredtomorrow 300 free minut mobil 100 free text free camcord repli call 08000930705 someon u know ask date servic 2 contact cant guess call 09058097189 reveal pobox 6 ls15hb 150p camera award sipix digit camera call 09061221066 fromm landlin deliveri within 28 day today voda number end 5226 select receiv 350 award hava match pleas call 08712300220 quot claim code 1131 standard rate app messag free welcom new improv sex dog club unsubscrib servic repli stop msg 150p 18 rct thnq adrian u text rgd vatian contact date servic someon know find call land line pobox45w2tg150p sorri miss call let talk time 07090201529 complimentari 4 star ibiza holiday cash need urgent collect 09066364349 landlin lose free msg bill mobil number mistak shortcod call 08081263000 charg call free bt landlin pleas call 08712402972 immedi urgent messag wait urgent mobil number award bonu caller prize call 09058095201 land line valid 12hr want new nokia 3510i colour phone deliveredtomorrow 300 free minut mobil 100 free text free camcord repli call 08000930705 life never much fun great came made truli special wo forget enjoy one want new video phone 600 anytim network min 400 inclus video call download 5 per week free deltomorrow call 08002888812 repli valu custom pleas advis follow recent review mob award bonu prize call 09066368470 welcom pleas repli age gender begin 24m freemsg unlimit free call activ smartcal txt call unlimit call help 08448714184 stop txt stop landlineonli mobil 10 mth updat latest orang phone free save free call text ye callback orno opt new 2 club dont fink met yet b gr8 2 c u pleas leav msg 2day wiv ur area 09099726553 repli promis carli x lkpobox177hp51fl camera award sipix digit camera call 09061221066 fromm landlin deliveri within 28 day get free mobil video player free movi collect text go free extra film order c appli 18 yr save money wed lingeri choos superb select nation deliveri brought weddingfriend heard u4 call night knicker make beg like u last time 01223585236 xx luv bloomberg center wait appli futur http want new video phone750 anytim network min 150 text five pound per week call 08000776320 repli deliveri tomorrow contact date servic someon know find call land line pobox45w2tg150p wan2 win westlif 4 u m8 current tour 1 unbreak 2 untam 3 unkempt text 3 cost 50p text dorothi bank granit issu explos pick member 300 nasdaq symbol cdgt per winner guarante caller prize final attempt contact claim call 09071517866 150ppmpobox10183bhamb64x xma new year eve ticket sale club day 10am till 8pm thur fri sat night week sell fast rock yr chik get 100 filthi film xxx pic yr phone rpli filth saristar ltd e14 9yt 08701752560 450p per 5 day stop2 cancel next month get upto 50 call 4 ur standard network charg 2 activ call 9061100010 c 1st4term pobox84 m26 3uz cost min mobcudb urgent tri contact u today draw show prize guarante call 09050000460 land line claim j89 po box245c2150pm text banneduk 89555 see cost 150p textoper g696ga xxx auction round highest bid next maximum bid bid send bid 10 bid good luck collect valentin weekend pari inc flight hotel prize guarante text pari custom loyalti offer new nokia6650 mobil txtauction txt word start 81151 get 4t ctxt tc wo believ true incred txt repli g learn truli amaz thing blow mind o2fwd hot n horni will live local text repli hear strt back 150p per msg netcollex ltdhelpdesk 02085076972 repli stop end want new nokia 3510i colour phone deliv tomorrow 200 free minut mobil 100 free text free camcord repli call 08000930705 congratul winner august prize draw call 09066660100 prize code 2309 8007 25p 4 alfi moon children need song ur mob tell ur m8 txt tone chariti 8007 nokia poli chariti poli zed 08701417012 profit 2 chariti get offici england poli rington colour flag yer mobil tonight game text tone flag optout txt eng stop box39822 w111wx custom servic announc recent tri make deliveri unabl pleas call 07090298926 stop club tone repli see html term club tone cost mfl wamma get laid want real doggin locat sent direct mobil join uk largest dog network txt dog 69696 nyt ec2a 3lp promot number 8714714 ur award citi break could win summer shop spree everi wk txt store 88039 skilgm tscs087147403231winawk age16 winner special select receiv cash award speak live oper claim call cost 10p thank rington order refer number x49 mobil charg tone arriv pleas call custom servic text txtstar hi 2night ur lucki night uve invit 2 xchat uk wildest chat txt chat 86688 ldn 18yr 146tf150p dear voucher holder 2 claim 1st class airport loung pass use holiday voucher call book quot 1st class x 2 someon u know ask date servic 2 contact cant guess call 09058095107 reveal pobox 7 s3xi 150p mila age23 blond new uk look sex uk guy u like fun text mtalk 1st 5free increment help08718728876 claim 200 shop spree call 08717895698 mobstorequiz10ppm want funk ur fone weekli new tone repli tones2u 2 text origin n best tone 3gbp network oper rate appli twink bear scalli skin jock call miss weekend fun call 08712466669 2 stop text call 08712460324 nat rate tri contact repli offer video handset 750 anytim network min unlimit text camcord repli call 08000930705 urgent tri contact last weekend draw show prize guarante call claim code k61 valid 12hour 74355 xma iscom ur award either cd gift voucher free entri 2 r weekli draw txt music 87066 tnc congratul u claim 2 vip row ticket 2 c blu concert novemb blu gift guarante call 09061104276 claim ts cs free msg singl find partner area 1000 real peopl wait chat send chat 62220cncl send stopc per msg win newest åòharri potter order phoenix book 5 repli harri answer 5 question chanc first among reader free msg rington http wml 37819 oh god found number glad text back xafter msg cst std ntwk chg link pictur sent also use http doubl min 1000 txt orang tariff latest motorola sonyericsson nokia bluetooth free call mobileupd8 08000839402 urgent 2nd attempt contact prize yesterday still await collect claim call acl03530150pm dear dave final notic collect 4 tenerif holiday 5000 cash award call 09061743806 landlin tc sae box326 cw25wx 150ppm tell u 2 call 09066358152 claim prize u 2 enter ur mobil person detail prompt care 2004 account 07xxxxxxxxx show 786 unredeem point claim call 08719181259 identifi code xxxxx expir want new video handset 750 anytim network min half price line rental camcord repli call 08000930705 deliveri tomorrow free rington repli real poli eg real1 pushbutton dontcha babygoodby golddigg webeburnin 1st tone free 6 u join free msg get gnarl barkley rington total free repli go messag right refus loan secur unsecur ca get credit call free 0800 195 6669 text back special select receiv award call 08712402050 line close cost 10ppm cs appli ag promo valu vodafon custom comput pick win prize collect easi call 09061743386 free video camera phone half price line rental 12 mth 500 cross ntwk min 100 txt call mobileupd8 08001950382 ringtonek 84484 rington club gr8 new poli direct mobil everi week bank granit issu explos pick member 300 nasdaq symbol cdgt per bore housew chat n date rate landlin tri call repli sm video mobil 750 min unlimit text free camcord repli call 08000930705 del thur 2nd time tri contact u prize 2 claim easi call 087104711148 10p per minut receiv week tripl echo rington shortli enjoy u select stay 1 250 top british hotel noth holiday valu dial 08712300220 claim nation rate call bx526 sw73ss chosen receiv award pl call claim number 09066364311 collect award select receiv valu mobil custom win cash prize prize worth thank rington order refer number mobil charg tone arriv pleas call custom servic 09065989182 mobi pub high street prize u know new duchess cornwal txt first name stop 008704050406 sp week savamob member offer access call 08709501522 detail savamob pobox 139 la3 2wu savamob offer mobil contact date servic someon know find call mobil landlin 09064017305 pobox75ldns7 chase us sinc sept definit pay thank inform ignor kath manchest loan purpos even bad credit tenant welcom call 08717111821 87077 kick new season 2wk free goal news ur mobil txt ur club name 87077 eg villa 87077 orang bring rington time chart hero free hit week go rington pic wap stop receiv tip repli stop privat 2003 account statement 07973788240 show 800 point call 08715203649 identifi code 40533 expir tri call repli sm video mobil 750 min unlimit text free camcord repli call 08000930705 gsoh good spam ladi u could b male gigolo 2 join uk fastest grow men club repli oncal mjzgroup repli stop msg hot live fantasi call 08707500020 20p per min ntt ltd po box 1327 croydon cr9 5wb 0870 nation rate call urgent mobil number award ukp 2000 prize guarante call 09061790125 landlin claim valid 12hr 150ppm spjanuari male sale hot gay chat cheaper call nation rate cheap peak stop text call 08712460324 freemsg today day readi horni live town love sex fun game netcollex ltd 08700621170150p per msg repli stop end simpson movi releas juli 2007 name band die start film day day day send b c pleas call amanda regard renew upgrad current handset free charg offer end today tel 0845 021 3680 subject c want new video phone 750 anytim network min half price line rental free text 3 month repli call 08000930705 free deliveri dear voucher holder claim week offer pc pleas go http ts cs appli urgent pleas call abta complimentari 4 spanish holiday cash await collect sae cs box 47 po19 2ez 150ppm cmon babe make horni turn txt fantasi babe im hot sticki need repli cost 2 cancel send stop import inform 4 orang user 0796xxxxxx today ur lucki day 2 find log onto http fantast prizeawait miss call alert number call left messag 07008009200 freemsg record indic may entitl 3750 pound accid claim free repli ye msg opt text stop show ur colour euro 2004 offer get england flag 3lion tone ur phone click follow servic messag info text pass 69669 collect polyphon rington normal gpr charg appli enjoy tone accordingli repeat text word ok mobil phone send block breaker come delux format new featur great graphic buy repli get bbdelux take challeng import inform 4 orang user today lucki day 2find log onto http fantast surpris await natalja invit friend repli see stop send stop frnd 62468 urgent import inform 02 user today lucki day 2 find log onto http fantast surpris await kit strip bill 150p netcollex po box 1013 ig11 oja pleas call 08712402578 immedi urgent messag wait let send free anonym mask messag im send messag see potenti abus congrat 2 mobil 3g videophon r call 09061744553 videochat wid ur mate play java game dload polyh music nolin rentl bx420 ip4 5we 150pm import inform 4 orang user 0789xxxxxxx today lucki day 2find log onto http fantast surpris await date servic ask 2 contact u someon shi call 09058091870 reveal pobox84 m26 3uz 150p want new video handset 750 time network min unlimit text camcord repli call 08000930705 del sat ur balanc next question complet landmark big bob barri ben text b c good luck ur tonex subscript renew charg choos 10 poli month bill msg prize go anoth custom c polo ltd suit 373 london w1j 6hl pleas call back busi want new nokia 3510i colour phone deliv tomorrow 200 free minut mobil 100 free text free camcord repli call 8000930705 recpt order rington order process one regist subscrib u enter draw 4 100 gift voucher repli enter unsubscrib text stop chanc win free bluetooth headset simpli repli back b floppi b snappi happi gay chat servic photo upload call 08718730666 2 stop text call 08712460324 welcom msg free give free call futur mg bill 150p daili cancel send 89123 receiv mobil content enjoy want explicit sex 30 sec ring 02073162414 cost latest nokia mobil ipod mp3 player proze guarante repli win 83355 norcorp sm servic inclus text credit pl goto 3qxj9 unsubscrib stop extra charg help 9ae mobil club choos top qualiti item mobil 7cfca1a money wine number 946 wot next want cock hubbi away need real man 2 satisfi txt wife 89938 string action txt stop 2 end txt rec otbox 731 la1 7w gr8 new servic live sex video chat mob see sexiest dirtiest girl live ur phone 4 detail text horni 89070 cancel send stop 89070 freemsg hi babi wow got new cam mobi wan na c hot pic fanci chat im w8in 4utxt rpli chat 82242 hlp 08712317606 msg150p 2rcv wan na laugh tri mobil logon txting word chat send 8883 cm po box 4217 london w1a 6zf rcvd 2nd attempt contact u u 09071512432 b4 300603t congratul ur award 500 cd voucher 125gift guarante free entri 2 100 wkli draw txt music 87066 contract mobil 11 mnth latest motorola nokia etc free doubl min text orang tariff text ye callback remov record urgent call 09066350750 landlin complimentari 4 ibiza holiday cash await collect sae cs po box 434 sk3 8wp 150 ppm u secret admir look 2 make contact r reveal think ur freemsg txt call 86888 claim reward 3 hour talk time use phone inc 3hr 16 stop txtstop sunshin quiz win super soni dvd record cannam capit australia text mquiz b today voda number end 7634 select receiv reward match pleas call 08712300220 quot claim code 7684 standard rate appli rip get mobil content call 08717509990 six download 3 tri contact repli offer video phone 750 anytim network min half price line rental camcord repli call 08000930705 xma reward wait comput randomli pick loyal mobil custom receiv reward call 09066380611 privat 2003 account statement show 800 point call 08718738002 identifi code 48922 expir custom servic announc recent tri make deliveri unabl pleas call 07099833605 hi babe chloe r u smash saturday night great weekend u miss sp text stop stop urgent mobil 07808726822 award bonu caller prize 2nd attempt contact call box95qu free game get rayman golf 4 free o2 game arcad 1st get ur game set repli post save activ8 press 0 key arcad termsappli mobil 10 mth updat latest phone free keep ur number get extra free text ye call weekli tone readi download week new tone includ 1 crazi f 2 3 black p info n get lot cash weekend dear welcom weekend got biggest best ever cash give away thank 4 continu support question week enter u in2 draw 4 cash name new us presid txt an 80082 uniqu user id remov send stop 87239 custom servic 08708034412 urgent 09066649731from landlin complimentari 4 ibiza holiday cash await collect sae cs po box 434 sk3 8wp 150ppm urgent 2nd attempt contact prize yesterday still await collect claim call 09061702893 santa call would littl one like call santa xma eve call 09077818151 book time last 3min 30 c privat 2004 account statement 078498 7 show 786 unredeem bonu point claim call 08719180219 identifi code 45239 expir check choos babe video fgkslpopw fgkslpo u r winner u ave special select 2 receiv cash 4 holiday flight inc speak live oper 2 claim 18 new mobil 2004 must go txt nokia 89545 collect today 2optout txtauction privat 2003 account statement show 800 point call 08715203652 identifi code 42810 expir valu vodafon custom comput pick win prize collect easi call 09061743386 free messag thank use auction subscript servic 18 2 skip auction txt 2 unsubscrib txt stop customercar 08718726270 lyricalladi invit friend repli see stop send stop frnd 62468 want latest video handset 750 anytim network min half price line rental repli call 08000930705 deliveri tomorrow ou guarante latest nokia phone 40gb ipod mp3 player prize txt word collect 83355 ibhltd ldnw15h free polyphon rington text super 87131 get free poli tone week 16 sn pobox202 nr31 7z subscript 450pw warner villag 83118 c colin farrel swat wkend warner villag get 1 free med popcorn show c c kiosk repli soni 4 mre film offer goal arsen 4 henri 7 v liverpool 2 henri score simpl shot 6 yard pass bergkamp give arsen 2 goal margin 78 min hi sexychat girl wait text text great night chat send stop stop servic hi ami send free phone number coupl day give access adult parti welcom select o2 servic ad benefit call special train advisor free mobil diall 402 dear voucher holder next meal us use follow link pc 2 enjoy 2 4 1 dine experiencehttp urgent tri contact today draw show prize guarante call 09058094507 land line claim valid 12hr donat unicef asian tsunami disast support fund text donat ad next bill goldvik invit friend repli see stop send stop frnd 62468 phoni award today voda number end xxxx select receiv award match pleas call 08712300220 quot claim code 3100 standard rate app cd 4u congratul ur award cd gift voucher gift guarante freeentri 2 wkli draw xt music 87066 tnc guarante cash prize claim yr prize call custom servic repres 08714712412 cost 10p dear 0776xxxxxxx u invit xchat final attempt contact u txt chat 86688 ldn 18yr ur current 500 pound maxim ur send go 86688 cc 08718720201 privat 2003 account statement show 800 point call 08715203685 identifi expir like tell deepest darkest fantasi call 09094646631 stop text call 08712460324 nat rate natali invit friend repli see stop send stop frnd 62468 jamster get free wallpap text heart 88888 c appli 16 need help call 08701213186 free video camera phone half price line rental 12 mth 500 cross ntwk min 100 txt call mobileupd8 08001950382 83039 uk break accommodationvouch term condit appli 2 claim mustprovid claim number 15541 5p 4 alfi moon children need song ur mob tell ur m8 txt tone chariti 8007 nokia poli chariti poli zed 08701417012 profit 2 chariti win shop spree everi week start 2 play text store skilgm tscs08714740323 1winawk age16 2nd attempt contract u week top prize either cash prize call 09066361921 want new nokia 3510i colour phone deliveredtomorrow 300 free minut mobil 100 free text free camcord repli call 08000930705 themob hit link get premium pink panther game new 1 sugabab crazi zebra anim badass hoodi 4 free msg mobil content order resent previou attempt fail due network error queri customersqueri 1 new messag pleas call 08715205273 decemb mobil entitl updat latest colour camera mobil free call mobil updat vco free 08002986906 get 3 lion england tone repli lionm 4 mono lionp 4 poli 4 go 2 origin n best tone 3gbp network oper rate appli privat 2003 account statement 078 4 costa del sol holiday await collect call 09050090044 toclaim sae tc pobox334 stockport sk38xh max10min get garden readi summer free select summer bulb seed worth scotsman saturday stop go2 sm auction brand new nokia 7250 4 auction today auction free 2 join take part txt nokia 86021 ree entri 2 weekli comp chanc win ipod txt pod 80182 get entri std txt rate c appli 08452810073 detail record indic u mayb entitl 5000 pound compens accid claim 4 free repli claim msg 2 stop txt stop spook mob halloween collect logo pic messag plu free eeri tone txt card spook 8007 zed 08701417012150p per call germani 1 penc per minut call fix line via access number 0844 861 85 prepay direct access mobil 11mth updat free orang latest colour camera mobil unlimit weekend call call mobil upd8 freefon 08000839402 2stoptxt privat 2003 account statement fone show 800 point call 08715203656 identifi code 42049 expir someonon know tri contact via date servic find could call mobil landlin 09064015307 box334sk38ch urgent pleas call 09061213237 landlin cash 4 holiday await collect cs sae po box 177 m227xi prize go anoth custom c polo ltd suit 373 london w1j 6hl pleas call back busi urgent mobil number award prize guarante call 09061790126 land line claim valid 12hr 150ppm urgent pleas call 09061213237 landlin cash luxuri 4 canari island holiday await collect cs sae po box m227xi 150ppm xma iscom ur award either cd gift voucher free entri 2 r weekli draw txt music 87066 tnc u r subscrib 2 textcomp 250 wkli comp 1st wk free question follow subsequ wk charg unsubscrib txt stop 2 84128 custcar 08712405020 call 09095350301 send girl erot ecstaci stop text call 08712460324 nat rate xma reward wait comput randomli pick loyal mobil custom receiv reward call 09066380611 import messag final contact attempt import messag wait custom claim dept expir call 08717507382 date two start sent text talk sport radio last week connect think coincid current lead bid paus auction send custom care 08718726270 free entri gr8prize wkli comp 4 chanc win latest nokia 8800 psp cash everi great 80878 08715705022 1 new messag call santa call would littl one like call santa xma eve call 09058094583 book time guarante 32000 award mayb even cash claim ur award call free 0800 legitimat efreefon number wat u think latest news polic station toilet stolen cop noth go sparkl shop break 45 per person call 0121 2025050 visit txt call 86888 claim reward 3 hour talk time use phone inc 3hr 16 stop txtstop wml c ringtoneåá urgent last weekend draw show cash spanish holiday call 09050000332 claim c rstm sw7 3ss 150ppm urgent tri contact last weekend draw show u prize guarante call 09064017295 claim code k52 valid 12hr 150p pm 2p per min call germani 08448350055 bt line 2p per min check info c text stop opt marvel mobil play offici ultim game ur mobil right text spider 83338 game send u free 8ball wallpap privat 2003 account statement 07808247860 show 800 point call 08719899229 identifi code 40411 expir privat 2003 account statement show 800 point call 08718738001 identifi code 49557 expir want explicit sex 30 sec ring 02073162414 cost gsex pobox 2667 wc1n 3xx ask 3mobil 0870 chatlin inclu free min india cust serv sed ye l8er got mega bill 3 dont giv shit bailiff due day 3 want contract mobil 11 mnth latest motorola nokia etc free doubl min text orang tariff text ye callback remov record remind o2 get pound free call credit detail great offer pl repli 2 text valid name hous postcod 2nd time tri 2 contact u pound prize 2 claim easi call 087187272008 now1 10p per minut'"
      ]
     },
     "execution_count": 110,
     "metadata": {},
     "output_type": "execute_result"
    }
   ],
   "source": [
    "df[df['target']==1]['transformed_text'].str.cat(sep=\" \")"
   ]
  },
  {
   "cell_type": "code",
   "execution_count": null,
   "id": "b61402ac",
   "metadata": {},
   "outputs": [],
   "source": []
  },
  {
   "cell_type": "code",
   "execution_count": null,
   "id": "5ca1215a",
   "metadata": {},
   "outputs": [],
   "source": []
  },
  {
   "cell_type": "code",
   "execution_count": null,
   "id": "2d425d05",
   "metadata": {},
   "outputs": [],
   "source": []
  },
  {
   "cell_type": "code",
   "execution_count": null,
   "id": "2c53745c",
   "metadata": {},
   "outputs": [],
   "source": []
  }
 ],
 "metadata": {
  "kernelspec": {
   "display_name": "base",
   "language": "python",
   "name": "python3"
  },
  "language_info": {
   "codemirror_mode": {
    "name": "ipython",
    "version": 3
   },
   "file_extension": ".py",
   "mimetype": "text/x-python",
   "name": "python",
   "nbconvert_exporter": "python",
   "pygments_lexer": "ipython3",
   "version": "3.11.5"
  }
 },
 "nbformat": 4,
 "nbformat_minor": 5
}
